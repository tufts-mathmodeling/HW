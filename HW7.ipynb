{
  "nbformat": 4,
  "nbformat_minor": 0,
  "metadata": {
    "colab": {
      "name": "HW7.ipynb",
      "provenance": [],
      "collapsed_sections": [],
      "authorship_tag": "ABX9TyMR8Lb7RAaGRC6qrUejIphT",
      "include_colab_link": true
    },
    "kernelspec": {
      "name": "python3",
      "display_name": "Python 3"
    }
  },
  "cells": [
    {
      "cell_type": "markdown",
      "metadata": {
        "id": "view-in-github",
        "colab_type": "text"
      },
      "source": [
        "<a href=\"https://colab.research.google.com/github/tufts-mathmodeling/HW/blob/master/HW7.ipynb\" target=\"_parent\"><img src=\"https://colab.research.google.com/assets/colab-badge.svg\" alt=\"Open In Colab\"/></a>"
      ]
    },
    {
      "cell_type": "markdown",
      "metadata": {
        "id": "B1kctD91mOeI",
        "colab_type": "text"
      },
      "source": [
        "# Math Modeling Homework 7 (Spring 2020)\n",
        "\n",
        "## Fitting lines and curves\n",
        "\n",
        "In class we learned a simple technique to find a \"best\" solution to an overdetermined linear system $A \\vec{x} = \\vec{b}$.  What makes it overdetermined is that the matrix $A$ is rectangular, with more rows than columns, so you can't invert and solve for $\\vec{x}$, and when you row-reduce you'll usually find a contradiction.  Instead, \n",
        "$$A^T A \\vec{x}=A^T \\vec{b},$$ which is called the *normal equations,* has a square symmetric matrix in front of $\\vec x$ and can be solved conventionally. This was derived by minimizing the norm of the residual $\\vec r$ in the expression $A\\vec{x}=\\vec{b}+\\vec{r}$. \n",
        "\n",
        "Go back to your lecture notes to make sure you understand how to use this to fit a line or a quadratic to data.\n",
        "\n",
        "## 1(a)  4 points\n",
        "\n",
        "With this technique, fit a line to \n",
        "$$\\left\\{(0,0),(1,3),(2,6),(3,9),(4,12)\\right\\},$$\n",
        "and confirm that there is no residual.\n",
        "Now try \n",
        "$$\\left\\{(0,0.1),(1.1,3),(2.02,5.9),(3.3,9.1),(4.04,12.1)\\right\\},$$\n",
        "which is a noisy/perturbed version of the same data.  Do you get the same line?  What is the norm of the residual?"
      ]
    },
    {
      "cell_type": "code",
      "metadata": {
        "id": "K-y99G5bmEaw",
        "colab_type": "code",
        "colab": {}
      },
      "source": [
        ""
      ],
      "execution_count": 0,
      "outputs": []
    },
    {
      "cell_type": "markdown",
      "metadata": {
        "id": "yTNyxKNltG7C",
        "colab_type": "text"
      },
      "source": [
        "## 1(b)  16 points\n",
        "\n",
        "Find ten actual, physical round objects of different sizes and trace them on [graph paper](https://incompetech.com/graphpaper/quickPicks/8.5x11greySquareMulti.pdf).  For each, estimate the diameter, area, and perimeter.  (Something string-like is recommended for the perimeter.)  You will get far more satisfying answers if your measurements are as precise as possible.\n",
        "\n",
        "Create a dataset $\\{(d_i,p_i)\\}$ and a second dataset $\\{(d_i,a_i)\\}$ recording your measurements.\n",
        "\n",
        "Using the normal equations, find the best-fit LINE and the best-fit QUADRATIC for each of the two datasets.  Reason about whether each dataset is more lineish or more parabolish.  Put it all together and propose your best data-derived formulas for the perimeters and areas of round things, in terms of their diameters."
      ]
    },
    {
      "cell_type": "code",
      "metadata": {
        "id": "Kdoo4W7-vKpy",
        "colab_type": "code",
        "colab": {}
      },
      "source": [
        ""
      ],
      "execution_count": 0,
      "outputs": []
    }
  ]
}