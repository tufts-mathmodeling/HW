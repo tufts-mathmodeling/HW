{
  "nbformat": 4,
  "nbformat_minor": 0,
  "metadata": {
    "kernelspec": {
      "display_name": "Python 3",
      "language": "python",
      "name": "python3"
    },
    "language_info": {
      "codemirror_mode": {
        "name": "ipython",
        "version": 3
      },
      "file_extension": ".py",
      "mimetype": "text/x-python",
      "name": "python",
      "nbconvert_exporter": "python",
      "pygments_lexer": "ipython3",
      "version": "3.8.1"
    },
    "colab": {
      "name": "HW1.ipynb",
      "provenance": [],
      "collapsed_sections": [],
      "include_colab_link": true
    }
  },
  "cells": [
    {
      "cell_type": "markdown",
      "metadata": {
        "id": "view-in-github",
        "colab_type": "text"
      },
      "source": [
        "<a href=\"https://colab.research.google.com/github/tufts-mathmodeling/HW/blob/master/HW1.ipynb\" target=\"_parent\"><img src=\"https://colab.research.google.com/assets/colab-badge.svg\" alt=\"Open In Colab\"/></a>"
      ]
    },
    {
      "cell_type": "code",
      "metadata": {
        "id": "M9vJVGe3Q-AX",
        "colab_type": "code",
        "colab": {}
      },
      "source": [
        "%config InlineBackend.figure_formats = ['svg']\n",
        "import numpy as np\n",
        "import matplotlib.pyplot as plt; plt.style.use('ggplot')"
      ],
      "execution_count": 0,
      "outputs": []
    },
    {
      "cell_type": "markdown",
      "metadata": {
        "id": "VT9ccgtQQ-Ag",
        "colab_type": "text"
      },
      "source": [
        "# Problem 1: Whaling (12 points total)\n",
        "For a given population of whales, an estimate of the annual growth rate of the population without harvesting is given by $G = rx(1-\\frac xK)$, where $r=0.05$ is the intrinsic growth rate, $K = 300,000$ is the maximum sustainable population, and $x$ is the current population.  Notice that if $x=0$ or $x=K$, the annual growth rate is zero.  If $0 < x < K$, the annual growth rate is positive, while if $x > K$, the annual growth rate is negative.  If $E$ boat-days of whaling are allowed per year, the annual growth rate is lowered by the amount $H = 0.00001 Ex$, meaning that, for a population of $x$ whales, each boat harvests 0.001\\% of the population for each day that it is whaling.  For fixed $E$, the whale population reaches a steady state where the annual growth rate, including harvesting, is zero (i.e., $G=H$).\n",
        "\n",
        "### Maximizing harvest rate (4 points)\n",
        "\n",
        "How many boat-days of whaling per year should be allowed to maximize the steady-state harvest rate if the initial whale population is 70,000?  What is the steady-state whale population? Using Matplotlib below, plot the harvest rate and population size as functions of $E$. *(Note: By \"boat-days,\" we mean total days of whaling allowed across all fishermen.  Therefore, there can be more than 365 boat-days a year, since multiple whalers can fish per day.)*\n",
        "\n",
        "In the KEY PLOT below, the formula for harvest_rate_analytic is intentionally wrong, and the red and yellow plots don't match.  Put in correct code and re-run the plot until they match.  This amounts to validating your analytic solution with an iterative solution.\n",
        "\n",
        "What you should turn in for this problem:  the solution you worked out on paper, plus KEY PLOT output, with yellow and red MATCHING.  Ask if you need help exporting the plot."
      ]
    },
    {
      "cell_type": "code",
      "metadata": {
        "id": "8Be2mqA2Q-An",
        "colab_type": "code",
        "colab": {}
      },
      "source": [
        "max_pop = 300000             # maximum sustainable population\n",
        "intrinsic_growth_rate = 0.05 # intrinsic growth rate (annual)\n",
        "\n",
        "def H(boat_days, curr_pop):\n",
        "    \"\"\"Returns the yearly population loss from harvesting.\"\"\"\n",
        "    return 0.00001 * boat_days * curr_pop\n",
        "\n",
        "def G(curr_pop):\n",
        "    \"\"\"Returns the yearly population growth, not considering harvesting.\"\"\"\n",
        "    return intrinsic_growth_rate * curr_pop * (1 - (curr_pop / max_pop))"
      ],
      "execution_count": 0,
      "outputs": []
    },
    {
      "cell_type": "code",
      "metadata": {
        "tags": [
          "template"
        ],
        "id": "lRWdWA1mQ-Au",
        "colab_type": "code",
        "colab": {}
      },
      "source": [
        "def harvest_rate_analytic(boat_days):\n",
        "    \"\"\"Computes the steady-state harvest rate (closed-form solution).\n",
        "    \n",
        "    :param boat_days: The number of boat-days of harvesting.\n",
        "    \"\"\"\n",
        "    return boat_days + 5  # TODO: Your code here! What is steady state H as a function only of boat days and constants, not current pop? this answer is wrong. \n",
        "\n",
        "def harvest_rate_iterative(boat_days, initial_pop=70000, tol=1e-3):\n",
        "    \"\"\"Computes the steady-state harvest rate (iterative solution).\"\"\"\n",
        "    pop = initial_pop\n",
        "    growth = G(pop)\n",
        "    harvest = H(boat_days, pop)\n",
        "    while abs(growth - harvest) >= tol:\n",
        "        pop += growth - harvest \n",
        "        growth = G(pop)\n",
        "        harvest = H(boat_days, pop)\n",
        "    return harvest"
      ],
      "execution_count": 0,
      "outputs": []
    },
    {
      "cell_type": "code",
      "metadata": {
        "id": "VGse_2pVQ-A6",
        "colab_type": "code",
        "outputId": "62eb3c88-431c-4546-fc93-bdeb73df8844",
        "colab": {
          "base_uri": "https://localhost:8080/",
          "height": 396
        }
      },
      "source": [
        "E_vals = np.arange(0, 5001, 100)\n",
        "plt.plot(E_vals,\n",
        "         harvest_rate_analytic(E_vals),\n",
        "         linewidth=3,\n",
        "         color='yellow',\n",
        "         label='Analytic solution')\n",
        "plt.plot(E_vals,\n",
        "         [harvest_rate_iterative(E) for E in E_vals],\n",
        "         linewidth=3,\n",
        "         linestyle=':',\n",
        "         color='red',\n",
        "         label='Iterative solution')\n",
        "plt.legend()\n",
        "plt.xlabel('Boat-days of harvesting')\n",
        "plt.ylabel('Harvest rate')\n",
        "plt.title('KEY PLOT: Boat-days of harvesting vs. harvest rate')\n",
        "plt.show()"
      ],
      "execution_count": 4,
      "outputs": [
        {
          "output_type": "display_data",
          "data": {
            "text/plain": [
              "<Figure size 432x288 with 1 Axes>"
            ],
            "image/svg+xml": "<?xml version=\"1.0\" encoding=\"utf-8\" standalone=\"no\"?>\n<!DOCTYPE svg PUBLIC \"-//W3C//DTD SVG 1.1//EN\"\n  \"http://www.w3.org/Graphics/SVG/1.1/DTD/svg11.dtd\">\n<!-- Created with matplotlib (https://matplotlib.org/) -->\n<svg height=\"281.073625pt\" version=\"1.1\" viewBox=\"0 0 413.952 281.073625\" width=\"413.952pt\" xmlns=\"http://www.w3.org/2000/svg\" xmlns:xlink=\"http://www.w3.org/1999/xlink\">\n <defs>\n  <style type=\"text/css\">\n*{stroke-linecap:butt;stroke-linejoin:round;}\n  </style>\n </defs>\n <g id=\"figure_1\">\n  <g id=\"patch_1\">\n   <path d=\"M 0 281.073625 \nL 413.952 281.073625 \nL 413.952 0 \nL 0 0 \nz\n\" style=\"fill:#ffffff;\"/>\n  </g>\n  <g id=\"axes_1\">\n   <g id=\"patch_2\">\n    <path d=\"M 55.26375 241.58175 \nL 390.06375 241.58175 \nL 390.06375 24.14175 \nL 55.26375 24.14175 \nz\n\" style=\"fill:#e5e5e5;\"/>\n   </g>\n   <g id=\"matplotlib.axis_1\">\n    <g id=\"xtick_1\">\n     <g id=\"line2d_1\">\n      <path clip-path=\"url(#p179c1dbf31)\" d=\"M 70.481932 241.58175 \nL 70.481932 24.14175 \n\" style=\"fill:none;stroke:#ffffff;stroke-linecap:square;stroke-width:0.8;\"/>\n     </g>\n     <g id=\"line2d_2\">\n      <defs>\n       <path d=\"M 0 0 \nL 0 3.5 \n\" id=\"medd9fc2f88\" style=\"stroke:#555555;stroke-width:0.8;\"/>\n      </defs>\n      <g>\n       <use style=\"fill:#555555;stroke:#555555;stroke-width:0.8;\" x=\"70.481932\" xlink:href=\"#medd9fc2f88\" y=\"241.58175\"/>\n      </g>\n     </g>\n     <g id=\"text_1\">\n      <!-- 0 -->\n      <defs>\n       <path d=\"M 31.78125 66.40625 \nQ 24.171875 66.40625 20.328125 58.90625 \nQ 16.5 51.421875 16.5 36.375 \nQ 16.5 21.390625 20.328125 13.890625 \nQ 24.171875 6.390625 31.78125 6.390625 \nQ 39.453125 6.390625 43.28125 13.890625 \nQ 47.125 21.390625 47.125 36.375 \nQ 47.125 51.421875 43.28125 58.90625 \nQ 39.453125 66.40625 31.78125 66.40625 \nz\nM 31.78125 74.21875 \nQ 44.046875 74.21875 50.515625 64.515625 \nQ 56.984375 54.828125 56.984375 36.375 \nQ 56.984375 17.96875 50.515625 8.265625 \nQ 44.046875 -1.421875 31.78125 -1.421875 \nQ 19.53125 -1.421875 13.0625 8.265625 \nQ 6.59375 17.96875 6.59375 36.375 \nQ 6.59375 54.828125 13.0625 64.515625 \nQ 19.53125 74.21875 31.78125 74.21875 \nz\n\" id=\"DejaVuSans-48\"/>\n      </defs>\n      <g style=\"fill:#555555;\" transform=\"translate(67.300682 256.180187)scale(0.1 -0.1)\">\n       <use xlink:href=\"#DejaVuSans-48\"/>\n      </g>\n     </g>\n    </g>\n    <g id=\"xtick_2\">\n     <g id=\"line2d_3\">\n      <path clip-path=\"url(#p179c1dbf31)\" d=\"M 131.354659 241.58175 \nL 131.354659 24.14175 \n\" style=\"fill:none;stroke:#ffffff;stroke-linecap:square;stroke-width:0.8;\"/>\n     </g>\n     <g id=\"line2d_4\">\n      <g>\n       <use style=\"fill:#555555;stroke:#555555;stroke-width:0.8;\" x=\"131.354659\" xlink:href=\"#medd9fc2f88\" y=\"241.58175\"/>\n      </g>\n     </g>\n     <g id=\"text_2\">\n      <!-- 1000 -->\n      <defs>\n       <path d=\"M 12.40625 8.296875 \nL 28.515625 8.296875 \nL 28.515625 63.921875 \nL 10.984375 60.40625 \nL 10.984375 69.390625 \nL 28.421875 72.90625 \nL 38.28125 72.90625 \nL 38.28125 8.296875 \nL 54.390625 8.296875 \nL 54.390625 0 \nL 12.40625 0 \nz\n\" id=\"DejaVuSans-49\"/>\n      </defs>\n      <g style=\"fill:#555555;\" transform=\"translate(118.629659 256.180187)scale(0.1 -0.1)\">\n       <use xlink:href=\"#DejaVuSans-49\"/>\n       <use x=\"63.623047\" xlink:href=\"#DejaVuSans-48\"/>\n       <use x=\"127.246094\" xlink:href=\"#DejaVuSans-48\"/>\n       <use x=\"190.869141\" xlink:href=\"#DejaVuSans-48\"/>\n      </g>\n     </g>\n    </g>\n    <g id=\"xtick_3\">\n     <g id=\"line2d_5\">\n      <path clip-path=\"url(#p179c1dbf31)\" d=\"M 192.227386 241.58175 \nL 192.227386 24.14175 \n\" style=\"fill:none;stroke:#ffffff;stroke-linecap:square;stroke-width:0.8;\"/>\n     </g>\n     <g id=\"line2d_6\">\n      <g>\n       <use style=\"fill:#555555;stroke:#555555;stroke-width:0.8;\" x=\"192.227386\" xlink:href=\"#medd9fc2f88\" y=\"241.58175\"/>\n      </g>\n     </g>\n     <g id=\"text_3\">\n      <!-- 2000 -->\n      <defs>\n       <path d=\"M 19.1875 8.296875 \nL 53.609375 8.296875 \nL 53.609375 0 \nL 7.328125 0 \nL 7.328125 8.296875 \nQ 12.9375 14.109375 22.625 23.890625 \nQ 32.328125 33.6875 34.8125 36.53125 \nQ 39.546875 41.84375 41.421875 45.53125 \nQ 43.3125 49.21875 43.3125 52.78125 \nQ 43.3125 58.59375 39.234375 62.25 \nQ 35.15625 65.921875 28.609375 65.921875 \nQ 23.96875 65.921875 18.8125 64.3125 \nQ 13.671875 62.703125 7.8125 59.421875 \nL 7.8125 69.390625 \nQ 13.765625 71.78125 18.9375 73 \nQ 24.125 74.21875 28.421875 74.21875 \nQ 39.75 74.21875 46.484375 68.546875 \nQ 53.21875 62.890625 53.21875 53.421875 \nQ 53.21875 48.921875 51.53125 44.890625 \nQ 49.859375 40.875 45.40625 35.40625 \nQ 44.1875 33.984375 37.640625 27.21875 \nQ 31.109375 20.453125 19.1875 8.296875 \nz\n\" id=\"DejaVuSans-50\"/>\n      </defs>\n      <g style=\"fill:#555555;\" transform=\"translate(179.502386 256.180187)scale(0.1 -0.1)\">\n       <use xlink:href=\"#DejaVuSans-50\"/>\n       <use x=\"63.623047\" xlink:href=\"#DejaVuSans-48\"/>\n       <use x=\"127.246094\" xlink:href=\"#DejaVuSans-48\"/>\n       <use x=\"190.869141\" xlink:href=\"#DejaVuSans-48\"/>\n      </g>\n     </g>\n    </g>\n    <g id=\"xtick_4\">\n     <g id=\"line2d_7\">\n      <path clip-path=\"url(#p179c1dbf31)\" d=\"M 253.100114 241.58175 \nL 253.100114 24.14175 \n\" style=\"fill:none;stroke:#ffffff;stroke-linecap:square;stroke-width:0.8;\"/>\n     </g>\n     <g id=\"line2d_8\">\n      <g>\n       <use style=\"fill:#555555;stroke:#555555;stroke-width:0.8;\" x=\"253.100114\" xlink:href=\"#medd9fc2f88\" y=\"241.58175\"/>\n      </g>\n     </g>\n     <g id=\"text_4\">\n      <!-- 3000 -->\n      <defs>\n       <path d=\"M 40.578125 39.3125 \nQ 47.65625 37.796875 51.625 33 \nQ 55.609375 28.21875 55.609375 21.1875 \nQ 55.609375 10.40625 48.1875 4.484375 \nQ 40.765625 -1.421875 27.09375 -1.421875 \nQ 22.515625 -1.421875 17.65625 -0.515625 \nQ 12.796875 0.390625 7.625 2.203125 \nL 7.625 11.71875 \nQ 11.71875 9.328125 16.59375 8.109375 \nQ 21.484375 6.890625 26.8125 6.890625 \nQ 36.078125 6.890625 40.9375 10.546875 \nQ 45.796875 14.203125 45.796875 21.1875 \nQ 45.796875 27.640625 41.28125 31.265625 \nQ 36.765625 34.90625 28.71875 34.90625 \nL 20.21875 34.90625 \nL 20.21875 43.015625 \nL 29.109375 43.015625 \nQ 36.375 43.015625 40.234375 45.921875 \nQ 44.09375 48.828125 44.09375 54.296875 \nQ 44.09375 59.90625 40.109375 62.90625 \nQ 36.140625 65.921875 28.71875 65.921875 \nQ 24.65625 65.921875 20.015625 65.03125 \nQ 15.375 64.15625 9.8125 62.3125 \nL 9.8125 71.09375 \nQ 15.4375 72.65625 20.34375 73.4375 \nQ 25.25 74.21875 29.59375 74.21875 \nQ 40.828125 74.21875 47.359375 69.109375 \nQ 53.90625 64.015625 53.90625 55.328125 \nQ 53.90625 49.265625 50.4375 45.09375 \nQ 46.96875 40.921875 40.578125 39.3125 \nz\n\" id=\"DejaVuSans-51\"/>\n      </defs>\n      <g style=\"fill:#555555;\" transform=\"translate(240.375114 256.180187)scale(0.1 -0.1)\">\n       <use xlink:href=\"#DejaVuSans-51\"/>\n       <use x=\"63.623047\" xlink:href=\"#DejaVuSans-48\"/>\n       <use x=\"127.246094\" xlink:href=\"#DejaVuSans-48\"/>\n       <use x=\"190.869141\" xlink:href=\"#DejaVuSans-48\"/>\n      </g>\n     </g>\n    </g>\n    <g id=\"xtick_5\">\n     <g id=\"line2d_9\">\n      <path clip-path=\"url(#p179c1dbf31)\" d=\"M 313.972841 241.58175 \nL 313.972841 24.14175 \n\" style=\"fill:none;stroke:#ffffff;stroke-linecap:square;stroke-width:0.8;\"/>\n     </g>\n     <g id=\"line2d_10\">\n      <g>\n       <use style=\"fill:#555555;stroke:#555555;stroke-width:0.8;\" x=\"313.972841\" xlink:href=\"#medd9fc2f88\" y=\"241.58175\"/>\n      </g>\n     </g>\n     <g id=\"text_5\">\n      <!-- 4000 -->\n      <defs>\n       <path d=\"M 37.796875 64.3125 \nL 12.890625 25.390625 \nL 37.796875 25.390625 \nz\nM 35.203125 72.90625 \nL 47.609375 72.90625 \nL 47.609375 25.390625 \nL 58.015625 25.390625 \nL 58.015625 17.1875 \nL 47.609375 17.1875 \nL 47.609375 0 \nL 37.796875 0 \nL 37.796875 17.1875 \nL 4.890625 17.1875 \nL 4.890625 26.703125 \nz\n\" id=\"DejaVuSans-52\"/>\n      </defs>\n      <g style=\"fill:#555555;\" transform=\"translate(301.247841 256.180187)scale(0.1 -0.1)\">\n       <use xlink:href=\"#DejaVuSans-52\"/>\n       <use x=\"63.623047\" xlink:href=\"#DejaVuSans-48\"/>\n       <use x=\"127.246094\" xlink:href=\"#DejaVuSans-48\"/>\n       <use x=\"190.869141\" xlink:href=\"#DejaVuSans-48\"/>\n      </g>\n     </g>\n    </g>\n    <g id=\"xtick_6\">\n     <g id=\"line2d_11\">\n      <path clip-path=\"url(#p179c1dbf31)\" d=\"M 374.845568 241.58175 \nL 374.845568 24.14175 \n\" style=\"fill:none;stroke:#ffffff;stroke-linecap:square;stroke-width:0.8;\"/>\n     </g>\n     <g id=\"line2d_12\">\n      <g>\n       <use style=\"fill:#555555;stroke:#555555;stroke-width:0.8;\" x=\"374.845568\" xlink:href=\"#medd9fc2f88\" y=\"241.58175\"/>\n      </g>\n     </g>\n     <g id=\"text_6\">\n      <!-- 5000 -->\n      <defs>\n       <path d=\"M 10.796875 72.90625 \nL 49.515625 72.90625 \nL 49.515625 64.59375 \nL 19.828125 64.59375 \nL 19.828125 46.734375 \nQ 21.96875 47.46875 24.109375 47.828125 \nQ 26.265625 48.1875 28.421875 48.1875 \nQ 40.625 48.1875 47.75 41.5 \nQ 54.890625 34.8125 54.890625 23.390625 \nQ 54.890625 11.625 47.5625 5.09375 \nQ 40.234375 -1.421875 26.90625 -1.421875 \nQ 22.3125 -1.421875 17.546875 -0.640625 \nQ 12.796875 0.140625 7.71875 1.703125 \nL 7.71875 11.625 \nQ 12.109375 9.234375 16.796875 8.0625 \nQ 21.484375 6.890625 26.703125 6.890625 \nQ 35.15625 6.890625 40.078125 11.328125 \nQ 45.015625 15.765625 45.015625 23.390625 \nQ 45.015625 31 40.078125 35.4375 \nQ 35.15625 39.890625 26.703125 39.890625 \nQ 22.75 39.890625 18.8125 39.015625 \nQ 14.890625 38.140625 10.796875 36.28125 \nz\n\" id=\"DejaVuSans-53\"/>\n      </defs>\n      <g style=\"fill:#555555;\" transform=\"translate(362.120568 256.180187)scale(0.1 -0.1)\">\n       <use xlink:href=\"#DejaVuSans-53\"/>\n       <use x=\"63.623047\" xlink:href=\"#DejaVuSans-48\"/>\n       <use x=\"127.246094\" xlink:href=\"#DejaVuSans-48\"/>\n       <use x=\"190.869141\" xlink:href=\"#DejaVuSans-48\"/>\n      </g>\n     </g>\n    </g>\n    <g id=\"text_7\">\n     <!-- Boat-days of harvesting -->\n     <defs>\n      <path d=\"M 19.671875 34.8125 \nL 19.671875 8.109375 \nL 35.5 8.109375 \nQ 43.453125 8.109375 47.28125 11.40625 \nQ 51.125 14.703125 51.125 21.484375 \nQ 51.125 28.328125 47.28125 31.5625 \nQ 43.453125 34.8125 35.5 34.8125 \nz\nM 19.671875 64.796875 \nL 19.671875 42.828125 \nL 34.28125 42.828125 \nQ 41.5 42.828125 45.03125 45.53125 \nQ 48.578125 48.25 48.578125 53.8125 \nQ 48.578125 59.328125 45.03125 62.0625 \nQ 41.5 64.796875 34.28125 64.796875 \nz\nM 9.8125 72.90625 \nL 35.015625 72.90625 \nQ 46.296875 72.90625 52.390625 68.21875 \nQ 58.5 63.53125 58.5 54.890625 \nQ 58.5 48.1875 55.375 44.234375 \nQ 52.25 40.28125 46.1875 39.3125 \nQ 53.46875 37.75 57.5 32.78125 \nQ 61.53125 27.828125 61.53125 20.40625 \nQ 61.53125 10.640625 54.890625 5.3125 \nQ 48.25 0 35.984375 0 \nL 9.8125 0 \nz\n\" id=\"DejaVuSans-66\"/>\n      <path d=\"M 30.609375 48.390625 \nQ 23.390625 48.390625 19.1875 42.75 \nQ 14.984375 37.109375 14.984375 27.296875 \nQ 14.984375 17.484375 19.15625 11.84375 \nQ 23.34375 6.203125 30.609375 6.203125 \nQ 37.796875 6.203125 41.984375 11.859375 \nQ 46.1875 17.53125 46.1875 27.296875 \nQ 46.1875 37.015625 41.984375 42.703125 \nQ 37.796875 48.390625 30.609375 48.390625 \nz\nM 30.609375 56 \nQ 42.328125 56 49.015625 48.375 \nQ 55.71875 40.765625 55.71875 27.296875 \nQ 55.71875 13.875 49.015625 6.21875 \nQ 42.328125 -1.421875 30.609375 -1.421875 \nQ 18.84375 -1.421875 12.171875 6.21875 \nQ 5.515625 13.875 5.515625 27.296875 \nQ 5.515625 40.765625 12.171875 48.375 \nQ 18.84375 56 30.609375 56 \nz\n\" id=\"DejaVuSans-111\"/>\n      <path d=\"M 34.28125 27.484375 \nQ 23.390625 27.484375 19.1875 25 \nQ 14.984375 22.515625 14.984375 16.5 \nQ 14.984375 11.71875 18.140625 8.90625 \nQ 21.296875 6.109375 26.703125 6.109375 \nQ 34.1875 6.109375 38.703125 11.40625 \nQ 43.21875 16.703125 43.21875 25.484375 \nL 43.21875 27.484375 \nz\nM 52.203125 31.203125 \nL 52.203125 0 \nL 43.21875 0 \nL 43.21875 8.296875 \nQ 40.140625 3.328125 35.546875 0.953125 \nQ 30.953125 -1.421875 24.3125 -1.421875 \nQ 15.921875 -1.421875 10.953125 3.296875 \nQ 6 8.015625 6 15.921875 \nQ 6 25.140625 12.171875 29.828125 \nQ 18.359375 34.515625 30.609375 34.515625 \nL 43.21875 34.515625 \nL 43.21875 35.40625 \nQ 43.21875 41.609375 39.140625 45 \nQ 35.0625 48.390625 27.6875 48.390625 \nQ 23 48.390625 18.546875 47.265625 \nQ 14.109375 46.140625 10.015625 43.890625 \nL 10.015625 52.203125 \nQ 14.9375 54.109375 19.578125 55.046875 \nQ 24.21875 56 28.609375 56 \nQ 40.484375 56 46.34375 49.84375 \nQ 52.203125 43.703125 52.203125 31.203125 \nz\n\" id=\"DejaVuSans-97\"/>\n      <path d=\"M 18.3125 70.21875 \nL 18.3125 54.6875 \nL 36.8125 54.6875 \nL 36.8125 47.703125 \nL 18.3125 47.703125 \nL 18.3125 18.015625 \nQ 18.3125 11.328125 20.140625 9.421875 \nQ 21.96875 7.515625 27.59375 7.515625 \nL 36.8125 7.515625 \nL 36.8125 0 \nL 27.59375 0 \nQ 17.1875 0 13.234375 3.875 \nQ 9.28125 7.765625 9.28125 18.015625 \nL 9.28125 47.703125 \nL 2.6875 47.703125 \nL 2.6875 54.6875 \nL 9.28125 54.6875 \nL 9.28125 70.21875 \nz\n\" id=\"DejaVuSans-116\"/>\n      <path d=\"M 4.890625 31.390625 \nL 31.203125 31.390625 \nL 31.203125 23.390625 \nL 4.890625 23.390625 \nz\n\" id=\"DejaVuSans-45\"/>\n      <path d=\"M 45.40625 46.390625 \nL 45.40625 75.984375 \nL 54.390625 75.984375 \nL 54.390625 0 \nL 45.40625 0 \nL 45.40625 8.203125 \nQ 42.578125 3.328125 38.25 0.953125 \nQ 33.9375 -1.421875 27.875 -1.421875 \nQ 17.96875 -1.421875 11.734375 6.484375 \nQ 5.515625 14.40625 5.515625 27.296875 \nQ 5.515625 40.1875 11.734375 48.09375 \nQ 17.96875 56 27.875 56 \nQ 33.9375 56 38.25 53.625 \nQ 42.578125 51.265625 45.40625 46.390625 \nz\nM 14.796875 27.296875 \nQ 14.796875 17.390625 18.875 11.75 \nQ 22.953125 6.109375 30.078125 6.109375 \nQ 37.203125 6.109375 41.296875 11.75 \nQ 45.40625 17.390625 45.40625 27.296875 \nQ 45.40625 37.203125 41.296875 42.84375 \nQ 37.203125 48.484375 30.078125 48.484375 \nQ 22.953125 48.484375 18.875 42.84375 \nQ 14.796875 37.203125 14.796875 27.296875 \nz\n\" id=\"DejaVuSans-100\"/>\n      <path d=\"M 32.171875 -5.078125 \nQ 28.375 -14.84375 24.75 -17.8125 \nQ 21.140625 -20.796875 15.09375 -20.796875 \nL 7.90625 -20.796875 \nL 7.90625 -13.28125 \nL 13.1875 -13.28125 \nQ 16.890625 -13.28125 18.9375 -11.515625 \nQ 21 -9.765625 23.484375 -3.21875 \nL 25.09375 0.875 \nL 2.984375 54.6875 \nL 12.5 54.6875 \nL 29.59375 11.921875 \nL 46.6875 54.6875 \nL 56.203125 54.6875 \nz\n\" id=\"DejaVuSans-121\"/>\n      <path d=\"M 44.28125 53.078125 \nL 44.28125 44.578125 \nQ 40.484375 46.53125 36.375 47.5 \nQ 32.28125 48.484375 27.875 48.484375 \nQ 21.1875 48.484375 17.84375 46.4375 \nQ 14.5 44.390625 14.5 40.28125 \nQ 14.5 37.15625 16.890625 35.375 \nQ 19.28125 33.59375 26.515625 31.984375 \nL 29.59375 31.296875 \nQ 39.15625 29.25 43.1875 25.515625 \nQ 47.21875 21.78125 47.21875 15.09375 \nQ 47.21875 7.46875 41.1875 3.015625 \nQ 35.15625 -1.421875 24.609375 -1.421875 \nQ 20.21875 -1.421875 15.453125 -0.5625 \nQ 10.6875 0.296875 5.421875 2 \nL 5.421875 11.28125 \nQ 10.40625 8.6875 15.234375 7.390625 \nQ 20.0625 6.109375 24.8125 6.109375 \nQ 31.15625 6.109375 34.5625 8.28125 \nQ 37.984375 10.453125 37.984375 14.40625 \nQ 37.984375 18.0625 35.515625 20.015625 \nQ 33.0625 21.96875 24.703125 23.78125 \nL 21.578125 24.515625 \nQ 13.234375 26.265625 9.515625 29.90625 \nQ 5.8125 33.546875 5.8125 39.890625 \nQ 5.8125 47.609375 11.28125 51.796875 \nQ 16.75 56 26.8125 56 \nQ 31.78125 56 36.171875 55.265625 \nQ 40.578125 54.546875 44.28125 53.078125 \nz\n\" id=\"DejaVuSans-115\"/>\n      <path id=\"DejaVuSans-32\"/>\n      <path d=\"M 37.109375 75.984375 \nL 37.109375 68.5 \nL 28.515625 68.5 \nQ 23.6875 68.5 21.796875 66.546875 \nQ 19.921875 64.59375 19.921875 59.515625 \nL 19.921875 54.6875 \nL 34.71875 54.6875 \nL 34.71875 47.703125 \nL 19.921875 47.703125 \nL 19.921875 0 \nL 10.890625 0 \nL 10.890625 47.703125 \nL 2.296875 47.703125 \nL 2.296875 54.6875 \nL 10.890625 54.6875 \nL 10.890625 58.5 \nQ 10.890625 67.625 15.140625 71.796875 \nQ 19.390625 75.984375 28.609375 75.984375 \nz\n\" id=\"DejaVuSans-102\"/>\n      <path d=\"M 54.890625 33.015625 \nL 54.890625 0 \nL 45.90625 0 \nL 45.90625 32.71875 \nQ 45.90625 40.484375 42.875 44.328125 \nQ 39.84375 48.1875 33.796875 48.1875 \nQ 26.515625 48.1875 22.3125 43.546875 \nQ 18.109375 38.921875 18.109375 30.90625 \nL 18.109375 0 \nL 9.078125 0 \nL 9.078125 75.984375 \nL 18.109375 75.984375 \nL 18.109375 46.1875 \nQ 21.34375 51.125 25.703125 53.5625 \nQ 30.078125 56 35.796875 56 \nQ 45.21875 56 50.046875 50.171875 \nQ 54.890625 44.34375 54.890625 33.015625 \nz\n\" id=\"DejaVuSans-104\"/>\n      <path d=\"M 41.109375 46.296875 \nQ 39.59375 47.171875 37.8125 47.578125 \nQ 36.03125 48 33.890625 48 \nQ 26.265625 48 22.1875 43.046875 \nQ 18.109375 38.09375 18.109375 28.8125 \nL 18.109375 0 \nL 9.078125 0 \nL 9.078125 54.6875 \nL 18.109375 54.6875 \nL 18.109375 46.1875 \nQ 20.953125 51.171875 25.484375 53.578125 \nQ 30.03125 56 36.53125 56 \nQ 37.453125 56 38.578125 55.875 \nQ 39.703125 55.765625 41.0625 55.515625 \nz\n\" id=\"DejaVuSans-114\"/>\n      <path d=\"M 2.984375 54.6875 \nL 12.5 54.6875 \nL 29.59375 8.796875 \nL 46.6875 54.6875 \nL 56.203125 54.6875 \nL 35.6875 0 \nL 23.484375 0 \nz\n\" id=\"DejaVuSans-118\"/>\n      <path d=\"M 56.203125 29.59375 \nL 56.203125 25.203125 \nL 14.890625 25.203125 \nQ 15.484375 15.921875 20.484375 11.0625 \nQ 25.484375 6.203125 34.421875 6.203125 \nQ 39.59375 6.203125 44.453125 7.46875 \nQ 49.3125 8.734375 54.109375 11.28125 \nL 54.109375 2.78125 \nQ 49.265625 0.734375 44.1875 -0.34375 \nQ 39.109375 -1.421875 33.890625 -1.421875 \nQ 20.796875 -1.421875 13.15625 6.1875 \nQ 5.515625 13.8125 5.515625 26.8125 \nQ 5.515625 40.234375 12.765625 48.109375 \nQ 20.015625 56 32.328125 56 \nQ 43.359375 56 49.78125 48.890625 \nQ 56.203125 41.796875 56.203125 29.59375 \nz\nM 47.21875 32.234375 \nQ 47.125 39.59375 43.09375 43.984375 \nQ 39.0625 48.390625 32.421875 48.390625 \nQ 24.90625 48.390625 20.390625 44.140625 \nQ 15.875 39.890625 15.1875 32.171875 \nz\n\" id=\"DejaVuSans-101\"/>\n      <path d=\"M 9.421875 54.6875 \nL 18.40625 54.6875 \nL 18.40625 0 \nL 9.421875 0 \nz\nM 9.421875 75.984375 \nL 18.40625 75.984375 \nL 18.40625 64.59375 \nL 9.421875 64.59375 \nz\n\" id=\"DejaVuSans-105\"/>\n      <path d=\"M 54.890625 33.015625 \nL 54.890625 0 \nL 45.90625 0 \nL 45.90625 32.71875 \nQ 45.90625 40.484375 42.875 44.328125 \nQ 39.84375 48.1875 33.796875 48.1875 \nQ 26.515625 48.1875 22.3125 43.546875 \nQ 18.109375 38.921875 18.109375 30.90625 \nL 18.109375 0 \nL 9.078125 0 \nL 9.078125 54.6875 \nL 18.109375 54.6875 \nL 18.109375 46.1875 \nQ 21.34375 51.125 25.703125 53.5625 \nQ 30.078125 56 35.796875 56 \nQ 45.21875 56 50.046875 50.171875 \nQ 54.890625 44.34375 54.890625 33.015625 \nz\n\" id=\"DejaVuSans-110\"/>\n      <path d=\"M 45.40625 27.984375 \nQ 45.40625 37.75 41.375 43.109375 \nQ 37.359375 48.484375 30.078125 48.484375 \nQ 22.859375 48.484375 18.828125 43.109375 \nQ 14.796875 37.75 14.796875 27.984375 \nQ 14.796875 18.265625 18.828125 12.890625 \nQ 22.859375 7.515625 30.078125 7.515625 \nQ 37.359375 7.515625 41.375 12.890625 \nQ 45.40625 18.265625 45.40625 27.984375 \nz\nM 54.390625 6.78125 \nQ 54.390625 -7.171875 48.1875 -13.984375 \nQ 42 -20.796875 29.203125 -20.796875 \nQ 24.46875 -20.796875 20.265625 -20.09375 \nQ 16.0625 -19.390625 12.109375 -17.921875 \nL 12.109375 -9.1875 \nQ 16.0625 -11.328125 19.921875 -12.34375 \nQ 23.78125 -13.375 27.78125 -13.375 \nQ 36.625 -13.375 41.015625 -8.765625 \nQ 45.40625 -4.15625 45.40625 5.171875 \nL 45.40625 9.625 \nQ 42.625 4.78125 38.28125 2.390625 \nQ 33.9375 0 27.875 0 \nQ 17.828125 0 11.671875 7.65625 \nQ 5.515625 15.328125 5.515625 27.984375 \nQ 5.515625 40.671875 11.671875 48.328125 \nQ 17.828125 56 27.875 56 \nQ 33.9375 56 38.28125 53.609375 \nQ 42.625 51.21875 45.40625 46.390625 \nL 45.40625 54.6875 \nL 54.390625 54.6875 \nz\n\" id=\"DejaVuSans-103\"/>\n     </defs>\n     <g style=\"fill:#555555;\" transform=\"translate(150.976875 271.378)scale(0.12 -0.12)\">\n      <use xlink:href=\"#DejaVuSans-66\"/>\n      <use x=\"68.603516\" xlink:href=\"#DejaVuSans-111\"/>\n      <use x=\"129.785156\" xlink:href=\"#DejaVuSans-97\"/>\n      <use x=\"191.064453\" xlink:href=\"#DejaVuSans-116\"/>\n      <use x=\"230.273438\" xlink:href=\"#DejaVuSans-45\"/>\n      <use x=\"266.357422\" xlink:href=\"#DejaVuSans-100\"/>\n      <use x=\"329.833984\" xlink:href=\"#DejaVuSans-97\"/>\n      <use x=\"391.113281\" xlink:href=\"#DejaVuSans-121\"/>\n      <use x=\"450.292969\" xlink:href=\"#DejaVuSans-115\"/>\n      <use x=\"502.392578\" xlink:href=\"#DejaVuSans-32\"/>\n      <use x=\"534.179688\" xlink:href=\"#DejaVuSans-111\"/>\n      <use x=\"595.361328\" xlink:href=\"#DejaVuSans-102\"/>\n      <use x=\"630.566406\" xlink:href=\"#DejaVuSans-32\"/>\n      <use x=\"662.353516\" xlink:href=\"#DejaVuSans-104\"/>\n      <use x=\"725.732422\" xlink:href=\"#DejaVuSans-97\"/>\n      <use x=\"787.011719\" xlink:href=\"#DejaVuSans-114\"/>\n      <use x=\"828.125\" xlink:href=\"#DejaVuSans-118\"/>\n      <use x=\"887.304688\" xlink:href=\"#DejaVuSans-101\"/>\n      <use x=\"948.828125\" xlink:href=\"#DejaVuSans-115\"/>\n      <use x=\"1000.927734\" xlink:href=\"#DejaVuSans-116\"/>\n      <use x=\"1040.136719\" xlink:href=\"#DejaVuSans-105\"/>\n      <use x=\"1067.919922\" xlink:href=\"#DejaVuSans-110\"/>\n      <use x=\"1131.298828\" xlink:href=\"#DejaVuSans-103\"/>\n     </g>\n    </g>\n   </g>\n   <g id=\"matplotlib.axis_2\">\n    <g id=\"ytick_1\">\n     <g id=\"line2d_13\">\n      <path clip-path=\"url(#p179c1dbf31)\" d=\"M 55.26375 231.698114 \nL 390.06375 231.698114 \n\" style=\"fill:none;stroke:#ffffff;stroke-linecap:square;stroke-width:0.8;\"/>\n     </g>\n     <g id=\"line2d_14\">\n      <defs>\n       <path d=\"M 0 0 \nL -3.5 0 \n\" id=\"mef1d26af22\" style=\"stroke:#555555;stroke-width:0.8;\"/>\n      </defs>\n      <g>\n       <use style=\"fill:#555555;stroke:#555555;stroke-width:0.8;\" x=\"55.26375\" xlink:href=\"#mef1d26af22\" y=\"231.698114\"/>\n      </g>\n     </g>\n     <g id=\"text_8\">\n      <!-- 0 -->\n      <g style=\"fill:#555555;\" transform=\"translate(41.90125 235.497332)scale(0.1 -0.1)\">\n       <use xlink:href=\"#DejaVuSans-48\"/>\n      </g>\n     </g>\n    </g>\n    <g id=\"ytick_2\">\n     <g id=\"line2d_15\">\n      <path clip-path=\"url(#p179c1dbf31)\" d=\"M 55.26375 192.203063 \nL 390.06375 192.203063 \n\" style=\"fill:none;stroke:#ffffff;stroke-linecap:square;stroke-width:0.8;\"/>\n     </g>\n     <g id=\"line2d_16\">\n      <g>\n       <use style=\"fill:#555555;stroke:#555555;stroke-width:0.8;\" x=\"55.26375\" xlink:href=\"#mef1d26af22\" y=\"192.203063\"/>\n      </g>\n     </g>\n     <g id=\"text_9\">\n      <!-- 1000 -->\n      <g style=\"fill:#555555;\" transform=\"translate(22.81375 196.002282)scale(0.1 -0.1)\">\n       <use xlink:href=\"#DejaVuSans-49\"/>\n       <use x=\"63.623047\" xlink:href=\"#DejaVuSans-48\"/>\n       <use x=\"127.246094\" xlink:href=\"#DejaVuSans-48\"/>\n       <use x=\"190.869141\" xlink:href=\"#DejaVuSans-48\"/>\n      </g>\n     </g>\n    </g>\n    <g id=\"ytick_3\">\n     <g id=\"line2d_17\">\n      <path clip-path=\"url(#p179c1dbf31)\" d=\"M 55.26375 152.708013 \nL 390.06375 152.708013 \n\" style=\"fill:none;stroke:#ffffff;stroke-linecap:square;stroke-width:0.8;\"/>\n     </g>\n     <g id=\"line2d_18\">\n      <g>\n       <use style=\"fill:#555555;stroke:#555555;stroke-width:0.8;\" x=\"55.26375\" xlink:href=\"#mef1d26af22\" y=\"152.708013\"/>\n      </g>\n     </g>\n     <g id=\"text_10\">\n      <!-- 2000 -->\n      <g style=\"fill:#555555;\" transform=\"translate(22.81375 156.507232)scale(0.1 -0.1)\">\n       <use xlink:href=\"#DejaVuSans-50\"/>\n       <use x=\"63.623047\" xlink:href=\"#DejaVuSans-48\"/>\n       <use x=\"127.246094\" xlink:href=\"#DejaVuSans-48\"/>\n       <use x=\"190.869141\" xlink:href=\"#DejaVuSans-48\"/>\n      </g>\n     </g>\n    </g>\n    <g id=\"ytick_4\">\n     <g id=\"line2d_19\">\n      <path clip-path=\"url(#p179c1dbf31)\" d=\"M 55.26375 113.212962 \nL 390.06375 113.212962 \n\" style=\"fill:none;stroke:#ffffff;stroke-linecap:square;stroke-width:0.8;\"/>\n     </g>\n     <g id=\"line2d_20\">\n      <g>\n       <use style=\"fill:#555555;stroke:#555555;stroke-width:0.8;\" x=\"55.26375\" xlink:href=\"#mef1d26af22\" y=\"113.212962\"/>\n      </g>\n     </g>\n     <g id=\"text_11\">\n      <!-- 3000 -->\n      <g style=\"fill:#555555;\" transform=\"translate(22.81375 117.012181)scale(0.1 -0.1)\">\n       <use xlink:href=\"#DejaVuSans-51\"/>\n       <use x=\"63.623047\" xlink:href=\"#DejaVuSans-48\"/>\n       <use x=\"127.246094\" xlink:href=\"#DejaVuSans-48\"/>\n       <use x=\"190.869141\" xlink:href=\"#DejaVuSans-48\"/>\n      </g>\n     </g>\n    </g>\n    <g id=\"ytick_5\">\n     <g id=\"line2d_21\">\n      <path clip-path=\"url(#p179c1dbf31)\" d=\"M 55.26375 73.717912 \nL 390.06375 73.717912 \n\" style=\"fill:none;stroke:#ffffff;stroke-linecap:square;stroke-width:0.8;\"/>\n     </g>\n     <g id=\"line2d_22\">\n      <g>\n       <use style=\"fill:#555555;stroke:#555555;stroke-width:0.8;\" x=\"55.26375\" xlink:href=\"#mef1d26af22\" y=\"73.717912\"/>\n      </g>\n     </g>\n     <g id=\"text_12\">\n      <!-- 4000 -->\n      <g style=\"fill:#555555;\" transform=\"translate(22.81375 77.517131)scale(0.1 -0.1)\">\n       <use xlink:href=\"#DejaVuSans-52\"/>\n       <use x=\"63.623047\" xlink:href=\"#DejaVuSans-48\"/>\n       <use x=\"127.246094\" xlink:href=\"#DejaVuSans-48\"/>\n       <use x=\"190.869141\" xlink:href=\"#DejaVuSans-48\"/>\n      </g>\n     </g>\n    </g>\n    <g id=\"ytick_6\">\n     <g id=\"line2d_23\">\n      <path clip-path=\"url(#p179c1dbf31)\" d=\"M 55.26375 34.222862 \nL 390.06375 34.222862 \n\" style=\"fill:none;stroke:#ffffff;stroke-linecap:square;stroke-width:0.8;\"/>\n     </g>\n     <g id=\"line2d_24\">\n      <g>\n       <use style=\"fill:#555555;stroke:#555555;stroke-width:0.8;\" x=\"55.26375\" xlink:href=\"#mef1d26af22\" y=\"34.222862\"/>\n      </g>\n     </g>\n     <g id=\"text_13\">\n      <!-- 5000 -->\n      <g style=\"fill:#555555;\" transform=\"translate(22.81375 38.02208)scale(0.1 -0.1)\">\n       <use xlink:href=\"#DejaVuSans-53\"/>\n       <use x=\"63.623047\" xlink:href=\"#DejaVuSans-48\"/>\n       <use x=\"127.246094\" xlink:href=\"#DejaVuSans-48\"/>\n       <use x=\"190.869141\" xlink:href=\"#DejaVuSans-48\"/>\n      </g>\n     </g>\n    </g>\n    <g id=\"text_14\">\n     <!-- Harvest rate -->\n     <defs>\n      <path d=\"M 9.8125 72.90625 \nL 19.671875 72.90625 \nL 19.671875 43.015625 \nL 55.515625 43.015625 \nL 55.515625 72.90625 \nL 65.375 72.90625 \nL 65.375 0 \nL 55.515625 0 \nL 55.515625 34.71875 \nL 19.671875 34.71875 \nL 19.671875 0 \nL 9.8125 0 \nz\n\" id=\"DejaVuSans-72\"/>\n     </defs>\n     <g style=\"fill:#555555;\" transform=\"translate(16.318125 170.332687)rotate(-90)scale(0.12 -0.12)\">\n      <use xlink:href=\"#DejaVuSans-72\"/>\n      <use x=\"75.195312\" xlink:href=\"#DejaVuSans-97\"/>\n      <use x=\"136.474609\" xlink:href=\"#DejaVuSans-114\"/>\n      <use x=\"177.587891\" xlink:href=\"#DejaVuSans-118\"/>\n      <use x=\"236.767578\" xlink:href=\"#DejaVuSans-101\"/>\n      <use x=\"298.291016\" xlink:href=\"#DejaVuSans-115\"/>\n      <use x=\"350.390625\" xlink:href=\"#DejaVuSans-116\"/>\n      <use x=\"389.599609\" xlink:href=\"#DejaVuSans-32\"/>\n      <use x=\"421.386719\" xlink:href=\"#DejaVuSans-114\"/>\n      <use x=\"462.5\" xlink:href=\"#DejaVuSans-97\"/>\n      <use x=\"523.779297\" xlink:href=\"#DejaVuSans-116\"/>\n      <use x=\"562.988281\" xlink:href=\"#DejaVuSans-101\"/>\n     </g>\n    </g>\n   </g>\n   <g id=\"line2d_25\">\n    <path clip-path=\"url(#p179c1dbf31)\" d=\"M 70.481932 231.500638 \nL 76.569205 227.551133 \nL 82.656477 223.601628 \nL 88.74375 219.652123 \nL 94.831023 215.702618 \nL 100.918295 211.753113 \nL 107.005568 207.803608 \nL 113.092841 203.854103 \nL 119.180114 199.904598 \nL 125.267386 195.955093 \nL 131.354659 192.005588 \nL 137.441932 188.056083 \nL 143.529205 184.106578 \nL 149.616477 180.157073 \nL 155.70375 176.207568 \nL 161.791023 172.258063 \nL 167.878295 168.308558 \nL 173.965568 164.359053 \nL 180.052841 160.409548 \nL 186.140114 156.460043 \nL 192.227386 152.510538 \nL 198.314659 148.561033 \nL 204.401932 144.611527 \nL 210.489205 140.662022 \nL 216.576477 136.712517 \nL 222.66375 132.763012 \nL 228.751023 128.813507 \nL 234.838295 124.864002 \nL 240.925568 120.914497 \nL 247.012841 116.964992 \nL 253.100114 113.015487 \nL 259.187386 109.065982 \nL 265.274659 105.116477 \nL 271.361932 101.166972 \nL 277.449205 97.217467 \nL 283.536477 93.267962 \nL 289.62375 89.318457 \nL 295.711023 85.368952 \nL 301.798295 81.419447 \nL 307.885568 77.469942 \nL 313.972841 73.520437 \nL 320.060114 69.570932 \nL 326.147386 65.621427 \nL 332.234659 61.671922 \nL 338.321932 57.722417 \nL 344.409205 53.772912 \nL 350.496477 49.823407 \nL 356.58375 45.873901 \nL 362.671023 41.924396 \nL 368.758295 37.974891 \nL 374.845568 34.025386 \n\" style=\"fill:none;stroke:#ffff00;stroke-linecap:square;stroke-width:3;\"/>\n   </g>\n   <g id=\"line2d_26\">\n    <path clip-path=\"url(#p179c1dbf31)\" d=\"M 70.481932 231.698114 \nL 76.569205 220.08657 \nL 82.656477 208.948966 \nL 88.74375 198.285303 \nL 94.831023 188.095581 \nL 100.918295 178.3798 \nL 107.005568 169.137959 \nL 113.092841 160.370059 \nL 119.180114 152.076099 \nL 125.267386 144.256081 \nL 131.354659 136.910002 \nL 137.441932 130.037865 \nL 143.529205 123.639668 \nL 149.616477 117.715412 \nL 155.70375 112.265097 \nL 161.791023 107.288721 \nL 167.878295 102.786287 \nL 173.965568 98.757794 \nL 180.052841 95.203241 \nL 186.140114 92.122629 \nL 192.227386 89.515958 \nL 198.314659 87.383228 \nL 204.401932 85.724438 \nL 210.489205 84.539589 \nL 216.576477 83.828681 \nL 222.66375 83.591714 \nL 228.751023 83.828687 \nL 234.838295 84.539602 \nL 240.925568 85.724457 \nL 247.012841 87.383254 \nL 253.100114 89.51599 \nL 259.187386 92.12267 \nL 265.274659 95.203288 \nL 271.361932 98.75785 \nL 277.449205 102.786352 \nL 283.536477 107.288796 \nL 289.62375 112.265182 \nL 295.711023 117.715509 \nL 301.798295 123.63978 \nL 307.885568 130.037715 \nL 313.972841 136.909836 \nL 320.060114 144.255892 \nL 326.147386 152.075886 \nL 332.234659 160.369811 \nL 338.321932 169.137665 \nL 344.409205 178.379442 \nL 350.496477 188.095125 \nL 356.58375 198.284683 \nL 362.671023 208.948018 \nL 368.758295 220.084635 \nL 374.845568 231.545152 \n\" style=\"fill:none;stroke:#ff0000;stroke-dasharray:3,4.95;stroke-dashoffset:0;stroke-width:3;\"/>\n   </g>\n   <g id=\"patch_3\">\n    <path d=\"M 55.26375 241.58175 \nL 55.26375 24.14175 \n\" style=\"fill:none;stroke:#ffffff;stroke-linecap:square;stroke-linejoin:miter;\"/>\n   </g>\n   <g id=\"patch_4\">\n    <path d=\"M 390.06375 241.58175 \nL 390.06375 24.14175 \n\" style=\"fill:none;stroke:#ffffff;stroke-linecap:square;stroke-linejoin:miter;\"/>\n   </g>\n   <g id=\"patch_5\">\n    <path d=\"M 55.26375 241.58175 \nL 390.06375 241.58175 \n\" style=\"fill:none;stroke:#ffffff;stroke-linecap:square;stroke-linejoin:miter;\"/>\n   </g>\n   <g id=\"patch_6\">\n    <path d=\"M 55.26375 24.14175 \nL 390.06375 24.14175 \n\" style=\"fill:none;stroke:#ffffff;stroke-linecap:square;stroke-linejoin:miter;\"/>\n   </g>\n   <g id=\"text_15\">\n    <!-- KEY PLOT: Boat-days of harvesting vs. harvest rate -->\n    <defs>\n     <path d=\"M 9.8125 72.90625 \nL 19.671875 72.90625 \nL 19.671875 42.09375 \nL 52.390625 72.90625 \nL 65.09375 72.90625 \nL 28.90625 38.921875 \nL 67.671875 0 \nL 54.6875 0 \nL 19.671875 35.109375 \nL 19.671875 0 \nL 9.8125 0 \nz\n\" id=\"DejaVuSans-75\"/>\n     <path d=\"M 9.8125 72.90625 \nL 55.90625 72.90625 \nL 55.90625 64.59375 \nL 19.671875 64.59375 \nL 19.671875 43.015625 \nL 54.390625 43.015625 \nL 54.390625 34.71875 \nL 19.671875 34.71875 \nL 19.671875 8.296875 \nL 56.78125 8.296875 \nL 56.78125 0 \nL 9.8125 0 \nz\n\" id=\"DejaVuSans-69\"/>\n     <path d=\"M -0.203125 72.90625 \nL 10.40625 72.90625 \nL 30.609375 42.921875 \nL 50.6875 72.90625 \nL 61.28125 72.90625 \nL 35.5 34.71875 \nL 35.5 0 \nL 25.59375 0 \nL 25.59375 34.71875 \nz\n\" id=\"DejaVuSans-89\"/>\n     <path d=\"M 19.671875 64.796875 \nL 19.671875 37.40625 \nL 32.078125 37.40625 \nQ 38.96875 37.40625 42.71875 40.96875 \nQ 46.484375 44.53125 46.484375 51.125 \nQ 46.484375 57.671875 42.71875 61.234375 \nQ 38.96875 64.796875 32.078125 64.796875 \nz\nM 9.8125 72.90625 \nL 32.078125 72.90625 \nQ 44.34375 72.90625 50.609375 67.359375 \nQ 56.890625 61.8125 56.890625 51.125 \nQ 56.890625 40.328125 50.609375 34.8125 \nQ 44.34375 29.296875 32.078125 29.296875 \nL 19.671875 29.296875 \nL 19.671875 0 \nL 9.8125 0 \nz\n\" id=\"DejaVuSans-80\"/>\n     <path d=\"M 9.8125 72.90625 \nL 19.671875 72.90625 \nL 19.671875 8.296875 \nL 55.171875 8.296875 \nL 55.171875 0 \nL 9.8125 0 \nz\n\" id=\"DejaVuSans-76\"/>\n     <path d=\"M 39.40625 66.21875 \nQ 28.65625 66.21875 22.328125 58.203125 \nQ 16.015625 50.203125 16.015625 36.375 \nQ 16.015625 22.609375 22.328125 14.59375 \nQ 28.65625 6.59375 39.40625 6.59375 \nQ 50.140625 6.59375 56.421875 14.59375 \nQ 62.703125 22.609375 62.703125 36.375 \nQ 62.703125 50.203125 56.421875 58.203125 \nQ 50.140625 66.21875 39.40625 66.21875 \nz\nM 39.40625 74.21875 \nQ 54.734375 74.21875 63.90625 63.9375 \nQ 73.09375 53.65625 73.09375 36.375 \nQ 73.09375 19.140625 63.90625 8.859375 \nQ 54.734375 -1.421875 39.40625 -1.421875 \nQ 24.03125 -1.421875 14.8125 8.828125 \nQ 5.609375 19.09375 5.609375 36.375 \nQ 5.609375 53.65625 14.8125 63.9375 \nQ 24.03125 74.21875 39.40625 74.21875 \nz\n\" id=\"DejaVuSans-79\"/>\n     <path d=\"M -0.296875 72.90625 \nL 61.375 72.90625 \nL 61.375 64.59375 \nL 35.5 64.59375 \nL 35.5 0 \nL 25.59375 0 \nL 25.59375 64.59375 \nL -0.296875 64.59375 \nz\n\" id=\"DejaVuSans-84\"/>\n     <path d=\"M 11.71875 12.40625 \nL 22.015625 12.40625 \nL 22.015625 0 \nL 11.71875 0 \nz\nM 11.71875 51.703125 \nL 22.015625 51.703125 \nL 22.015625 39.3125 \nL 11.71875 39.3125 \nz\n\" id=\"DejaVuSans-58\"/>\n     <path d=\"M 10.6875 12.40625 \nL 21 12.40625 \nL 21 0 \nL 10.6875 0 \nz\n\" id=\"DejaVuSans-46\"/>\n    </defs>\n    <g transform=\"translate(38.5755 18.14175)scale(0.144 -0.144)\">\n     <use xlink:href=\"#DejaVuSans-75\"/>\n     <use x=\"65.576172\" xlink:href=\"#DejaVuSans-69\"/>\n     <use x=\"128.759766\" xlink:href=\"#DejaVuSans-89\"/>\n     <use x=\"189.84375\" xlink:href=\"#DejaVuSans-32\"/>\n     <use x=\"221.630859\" xlink:href=\"#DejaVuSans-80\"/>\n     <use x=\"281.933594\" xlink:href=\"#DejaVuSans-76\"/>\n     <use x=\"337.599609\" xlink:href=\"#DejaVuSans-79\"/>\n     <use x=\"416.310547\" xlink:href=\"#DejaVuSans-84\"/>\n     <use x=\"477.222656\" xlink:href=\"#DejaVuSans-58\"/>\n     <use x=\"510.914062\" xlink:href=\"#DejaVuSans-32\"/>\n     <use x=\"542.701172\" xlink:href=\"#DejaVuSans-66\"/>\n     <use x=\"611.304688\" xlink:href=\"#DejaVuSans-111\"/>\n     <use x=\"672.486328\" xlink:href=\"#DejaVuSans-97\"/>\n     <use x=\"733.765625\" xlink:href=\"#DejaVuSans-116\"/>\n     <use x=\"772.974609\" xlink:href=\"#DejaVuSans-45\"/>\n     <use x=\"809.058594\" xlink:href=\"#DejaVuSans-100\"/>\n     <use x=\"872.535156\" xlink:href=\"#DejaVuSans-97\"/>\n     <use x=\"933.814453\" xlink:href=\"#DejaVuSans-121\"/>\n     <use x=\"992.994141\" xlink:href=\"#DejaVuSans-115\"/>\n     <use x=\"1045.09375\" xlink:href=\"#DejaVuSans-32\"/>\n     <use x=\"1076.880859\" xlink:href=\"#DejaVuSans-111\"/>\n     <use x=\"1138.0625\" xlink:href=\"#DejaVuSans-102\"/>\n     <use x=\"1173.267578\" xlink:href=\"#DejaVuSans-32\"/>\n     <use x=\"1205.054688\" xlink:href=\"#DejaVuSans-104\"/>\n     <use x=\"1268.433594\" xlink:href=\"#DejaVuSans-97\"/>\n     <use x=\"1329.712891\" xlink:href=\"#DejaVuSans-114\"/>\n     <use x=\"1370.826172\" xlink:href=\"#DejaVuSans-118\"/>\n     <use x=\"1430.005859\" xlink:href=\"#DejaVuSans-101\"/>\n     <use x=\"1491.529297\" xlink:href=\"#DejaVuSans-115\"/>\n     <use x=\"1543.628906\" xlink:href=\"#DejaVuSans-116\"/>\n     <use x=\"1582.837891\" xlink:href=\"#DejaVuSans-105\"/>\n     <use x=\"1610.621094\" xlink:href=\"#DejaVuSans-110\"/>\n     <use x=\"1674\" xlink:href=\"#DejaVuSans-103\"/>\n     <use x=\"1737.476562\" xlink:href=\"#DejaVuSans-32\"/>\n     <use x=\"1769.263672\" xlink:href=\"#DejaVuSans-118\"/>\n     <use x=\"1828.443359\" xlink:href=\"#DejaVuSans-115\"/>\n     <use x=\"1880.542969\" xlink:href=\"#DejaVuSans-46\"/>\n     <use x=\"1912.330078\" xlink:href=\"#DejaVuSans-32\"/>\n     <use x=\"1944.117188\" xlink:href=\"#DejaVuSans-104\"/>\n     <use x=\"2007.496094\" xlink:href=\"#DejaVuSans-97\"/>\n     <use x=\"2068.775391\" xlink:href=\"#DejaVuSans-114\"/>\n     <use x=\"2109.888672\" xlink:href=\"#DejaVuSans-118\"/>\n     <use x=\"2169.068359\" xlink:href=\"#DejaVuSans-101\"/>\n     <use x=\"2230.591797\" xlink:href=\"#DejaVuSans-115\"/>\n     <use x=\"2282.691406\" xlink:href=\"#DejaVuSans-116\"/>\n     <use x=\"2321.900391\" xlink:href=\"#DejaVuSans-32\"/>\n     <use x=\"2353.6875\" xlink:href=\"#DejaVuSans-114\"/>\n     <use x=\"2394.800781\" xlink:href=\"#DejaVuSans-97\"/>\n     <use x=\"2456.080078\" xlink:href=\"#DejaVuSans-116\"/>\n     <use x=\"2495.289062\" xlink:href=\"#DejaVuSans-101\"/>\n    </g>\n   </g>\n   <g id=\"legend_1\">\n    <g id=\"patch_7\">\n     <path d=\"M 62.26375 61.498 \nL 179.073125 61.498 \nQ 181.073125 61.498 181.073125 59.498 \nL 181.073125 31.14175 \nQ 181.073125 29.14175 179.073125 29.14175 \nL 62.26375 29.14175 \nQ 60.26375 29.14175 60.26375 31.14175 \nL 60.26375 59.498 \nQ 60.26375 61.498 62.26375 61.498 \nz\n\" style=\"fill:#e5e5e5;opacity:0.8;stroke:#cccccc;stroke-linejoin:miter;stroke-width:0.5;\"/>\n    </g>\n    <g id=\"line2d_27\">\n     <path d=\"M 64.26375 37.240187 \nL 84.26375 37.240187 \n\" style=\"fill:none;stroke:#ffff00;stroke-linecap:square;stroke-width:3;\"/>\n    </g>\n    <g id=\"line2d_28\"/>\n    <g id=\"text_16\">\n     <!-- Analytic solution -->\n     <defs>\n      <path d=\"M 34.1875 63.1875 \nL 20.796875 26.90625 \nL 47.609375 26.90625 \nz\nM 28.609375 72.90625 \nL 39.796875 72.90625 \nL 67.578125 0 \nL 57.328125 0 \nL 50.6875 18.703125 \nL 17.828125 18.703125 \nL 11.1875 0 \nL 0.78125 0 \nz\n\" id=\"DejaVuSans-65\"/>\n      <path d=\"M 9.421875 75.984375 \nL 18.40625 75.984375 \nL 18.40625 0 \nL 9.421875 0 \nz\n\" id=\"DejaVuSans-108\"/>\n      <path d=\"M 48.78125 52.59375 \nL 48.78125 44.1875 \nQ 44.96875 46.296875 41.140625 47.34375 \nQ 37.3125 48.390625 33.40625 48.390625 \nQ 24.65625 48.390625 19.8125 42.84375 \nQ 14.984375 37.3125 14.984375 27.296875 \nQ 14.984375 17.28125 19.8125 11.734375 \nQ 24.65625 6.203125 33.40625 6.203125 \nQ 37.3125 6.203125 41.140625 7.25 \nQ 44.96875 8.296875 48.78125 10.40625 \nL 48.78125 2.09375 \nQ 45.015625 0.34375 40.984375 -0.53125 \nQ 36.96875 -1.421875 32.421875 -1.421875 \nQ 20.0625 -1.421875 12.78125 6.34375 \nQ 5.515625 14.109375 5.515625 27.296875 \nQ 5.515625 40.671875 12.859375 48.328125 \nQ 20.21875 56 33.015625 56 \nQ 37.15625 56 41.109375 55.140625 \nQ 45.0625 54.296875 48.78125 52.59375 \nz\n\" id=\"DejaVuSans-99\"/>\n      <path d=\"M 8.5 21.578125 \nL 8.5 54.6875 \nL 17.484375 54.6875 \nL 17.484375 21.921875 \nQ 17.484375 14.15625 20.5 10.265625 \nQ 23.53125 6.390625 29.59375 6.390625 \nQ 36.859375 6.390625 41.078125 11.03125 \nQ 45.3125 15.671875 45.3125 23.6875 \nL 45.3125 54.6875 \nL 54.296875 54.6875 \nL 54.296875 0 \nL 45.3125 0 \nL 45.3125 8.40625 \nQ 42.046875 3.421875 37.71875 1 \nQ 33.40625 -1.421875 27.6875 -1.421875 \nQ 18.265625 -1.421875 13.375 4.4375 \nQ 8.5 10.296875 8.5 21.578125 \nz\nM 31.109375 56 \nz\n\" id=\"DejaVuSans-117\"/>\n     </defs>\n     <g transform=\"translate(92.26375 40.740187)scale(0.1 -0.1)\">\n      <use xlink:href=\"#DejaVuSans-65\"/>\n      <use x=\"68.408203\" xlink:href=\"#DejaVuSans-110\"/>\n      <use x=\"131.787109\" xlink:href=\"#DejaVuSans-97\"/>\n      <use x=\"193.066406\" xlink:href=\"#DejaVuSans-108\"/>\n      <use x=\"220.849609\" xlink:href=\"#DejaVuSans-121\"/>\n      <use x=\"280.029297\" xlink:href=\"#DejaVuSans-116\"/>\n      <use x=\"319.238281\" xlink:href=\"#DejaVuSans-105\"/>\n      <use x=\"347.021484\" xlink:href=\"#DejaVuSans-99\"/>\n      <use x=\"402.001953\" xlink:href=\"#DejaVuSans-32\"/>\n      <use x=\"433.789062\" xlink:href=\"#DejaVuSans-115\"/>\n      <use x=\"485.888672\" xlink:href=\"#DejaVuSans-111\"/>\n      <use x=\"547.070312\" xlink:href=\"#DejaVuSans-108\"/>\n      <use x=\"574.853516\" xlink:href=\"#DejaVuSans-117\"/>\n      <use x=\"638.232422\" xlink:href=\"#DejaVuSans-116\"/>\n      <use x=\"677.441406\" xlink:href=\"#DejaVuSans-105\"/>\n      <use x=\"705.224609\" xlink:href=\"#DejaVuSans-111\"/>\n      <use x=\"766.40625\" xlink:href=\"#DejaVuSans-110\"/>\n     </g>\n    </g>\n    <g id=\"line2d_29\">\n     <path d=\"M 64.26375 51.918312 \nL 84.26375 51.918312 \n\" style=\"fill:none;stroke:#ff0000;stroke-dasharray:3,4.95;stroke-dashoffset:0;stroke-width:3;\"/>\n    </g>\n    <g id=\"line2d_30\"/>\n    <g id=\"text_17\">\n     <!-- Iterative solution -->\n     <defs>\n      <path d=\"M 9.8125 72.90625 \nL 19.671875 72.90625 \nL 19.671875 0 \nL 9.8125 0 \nz\n\" id=\"DejaVuSans-73\"/>\n     </defs>\n     <g transform=\"translate(92.26375 55.418312)scale(0.1 -0.1)\">\n      <use xlink:href=\"#DejaVuSans-73\"/>\n      <use x=\"29.492188\" xlink:href=\"#DejaVuSans-116\"/>\n      <use x=\"68.701172\" xlink:href=\"#DejaVuSans-101\"/>\n      <use x=\"130.224609\" xlink:href=\"#DejaVuSans-114\"/>\n      <use x=\"171.337891\" xlink:href=\"#DejaVuSans-97\"/>\n      <use x=\"232.617188\" xlink:href=\"#DejaVuSans-116\"/>\n      <use x=\"271.826172\" xlink:href=\"#DejaVuSans-105\"/>\n      <use x=\"299.609375\" xlink:href=\"#DejaVuSans-118\"/>\n      <use x=\"358.789062\" xlink:href=\"#DejaVuSans-101\"/>\n      <use x=\"420.3125\" xlink:href=\"#DejaVuSans-32\"/>\n      <use x=\"452.099609\" xlink:href=\"#DejaVuSans-115\"/>\n      <use x=\"504.199219\" xlink:href=\"#DejaVuSans-111\"/>\n      <use x=\"565.380859\" xlink:href=\"#DejaVuSans-108\"/>\n      <use x=\"593.164062\" xlink:href=\"#DejaVuSans-117\"/>\n      <use x=\"656.542969\" xlink:href=\"#DejaVuSans-116\"/>\n      <use x=\"695.751953\" xlink:href=\"#DejaVuSans-105\"/>\n      <use x=\"723.535156\" xlink:href=\"#DejaVuSans-111\"/>\n      <use x=\"784.716797\" xlink:href=\"#DejaVuSans-110\"/>\n     </g>\n    </g>\n   </g>\n  </g>\n </g>\n <defs>\n  <clipPath id=\"p179c1dbf31\">\n   <rect height=\"217.44\" width=\"334.8\" x=\"55.26375\" y=\"24.14175\"/>\n  </clipPath>\n </defs>\n</svg>\n"
          },
          "metadata": {
            "tags": []
          }
        }
      ]
    },
    {
      "cell_type": "markdown",
      "metadata": {
        "id": "wDO2AIGEQ-BB",
        "colab_type": "text"
      },
      "source": [
        "### Sensitivity analysis (intrinsic growth rate) (4 points)\n",
        "\n",
        "\n",
        "How sensitive is the optimal number of boat-days to the value of $r$?  How sensitive is the steady-state whale population to the value of $r$?  Explain why your answers make sense."
      ]
    },
    {
      "cell_type": "markdown",
      "metadata": {
        "id": "_qK9JcmuQ-BC",
        "colab_type": "text"
      },
      "source": [
        "### Maximizing profit (4 points)\n",
        "\n",
        "Suppose that instead of optimizing the steady-state harvest rate, we seek to maximize the *steady-state* (again $G-H = 0$) annual profit from whaling, given that the cost of whaling is \\\\$500 per boat-day and that each whale harvested can be sold for \\\\$6000.  How many boat-days of whaling per year should be allowed to maximize the total annual profit?  What is the steady-state whale population?  Plot the total profit as a function of $E$.  How does this steady-state population compare to the above answer?  Why is it different?"
      ]
    },
    {
      "cell_type": "markdown",
      "metadata": {
        "id": "8DOu4h2pQ-BG",
        "colab_type": "text"
      },
      "source": [
        "# Problem 2: Blood type frequencies (12 points total)\n",
        "Human blood is generally classified in the \"ABO\" system, with four blood types: A, B, O, and AB.  These four types reflect six gene pairs (genotypes), with blood type A corresponding to gene pairs AA and AO, blood type B corresponding to gene pairs BB and BO, blood type O corresponding to gene pair OO, and blood type AB corresponding to gene pair AB.  Let $p$ be the proportion of gene A in the population, $q$ be the proportion of gene B in the population, and $r$ be the proportion of gene O in the population.  Note that $p+q+r = 1$.\n",
        "\n",
        "### Genotype frequencies (4 points)\n",
        "The Hardy-Weinberg principle states that $p$, $q$, and $r$ are fixed from generation to generation, as are the frequencies of the different genotypes.  Under this assumption, what is the probability that an individual has genotype AA? BB? OO?  What is the probability of an individual having two different genes?\n",
        "\n",
        "### Maximizing heterozygous genotypes (4 points)\n",
        "Find the maximum percentage of the population that can have two different genes under the Hardy-Weinberg principle in two different ways, by directly maximizing a function of only two variables and by using the method of Lagrange multipliers.\n",
        "\n",
        "### Meaning of the Lagrange multiplier (4 points)\n",
        "Can you say what the Lagrange multiplier represents in the above example?"
      ]
    },
    {
      "cell_type": "markdown",
      "metadata": {
        "id": "HP_G3G2oQ-BJ",
        "colab_type": "text"
      },
      "source": [
        "# Problem 3: Optimization methods (NOT DUE YET-- here just as a preview)"
      ]
    },
    {
      "cell_type": "markdown",
      "metadata": {
        "id": "lW9WYgJmQ-BL",
        "colab_type": "text"
      },
      "source": [
        "### Newton's method\n",
        "As described in class, Newton's method approximates $f(x)$ by the tangent line at the previous iterate, $x_{k-1}$. Convergence is guaranteed if the initial guess, $x_0$, is close enough to the root, and if $f$ is continuously differentiable near the root. Both $f(x)$ and $f'(x)$ are required for implementation."
      ]
    },
    {
      "cell_type": "code",
      "metadata": {
        "id": "V4hljimjQ-BO",
        "colab_type": "code",
        "colab": {}
      },
      "source": [
        "def newton(f, df, x0, max_steps=100, tol=1e-10):\n",
        "    \"\"\"Computes iterates of Newton's method for solving f(x) = 0.\n",
        "    \n",
        "    :param f: The function to find a root for.\n",
        "    :param df: The derivative of the function.\n",
        "    :param x0: The initial guess.\n",
        "    :return: The final iterate and the total number of iterations needed.\n",
        "    \"\"\"\n",
        "    x = x0\n",
        "    for iteration in range(max_steps):\n",
        "        if abs(f(x)) <= tol:\n",
        "            return x, iteration\n",
        "        x -= f(x) / df(x)\n",
        "    return x, max_steps"
      ],
      "execution_count": 0,
      "outputs": []
    },
    {
      "cell_type": "markdown",
      "metadata": {
        "id": "tD8ZZi22Q-BT",
        "colab_type": "text"
      },
      "source": [
        "### Bisection method\n",
        "The bisection algorithm assumes that you know two points, $x_\\ell$ and $x_r$, for which $f(x_\\ell)$ and $f(x_r)$ have opposite signs.  For continuous $f$, this implies there is a zero between $x_\\ell$ and $x_r$. **(Think about why.)** To find it, the algorithm iteratively divides the interval from $x_\\ell$ to $x_r$ into two parts by examining the sign of $f((x_\\ell+x_r)/2)$ and discarding the endpoint of the same sign.  No assumption on $f$ is made aside from continuity, and convergence is always guaranteed.  Only $f(x)$ is needed for implementation."
      ]
    },
    {
      "cell_type": "code",
      "metadata": {
        "id": "MIJ9MO8-Q-BV",
        "colab_type": "code",
        "colab": {}
      },
      "source": [
        "def bisection(f, x_left, x_right, max_steps=100, tol=1e-10):\n",
        "    \"\"\"Computes iterates of the bisection method for solving f(x) = 0.\n",
        "    \n",
        "    The signs of f(x_left) and f(x_right) must differ.\n",
        "    \n",
        "    :param f: The function to find a root for.\n",
        "    :param x_left: A guess to the left of the root.\n",
        "    :param x_right: A guess to the right of the root.\n",
        "    \"\"\"\n",
        "    f_left = f(x_left)\n",
        "    f_right = f(x_right)\n",
        "    assert (f_left * f_right).real <= 0 # Signs of initial guesses must differ.\n",
        "    \n",
        "    x_middle = (x_left + x_right) / 2\n",
        "    f_middle = f(x_middle)\n",
        "    for iteration in range(max_steps):\n",
        "        if abs(f_middle) <= tol:\n",
        "            return x_middle, iteration\n",
        "        # Narrow the search.\n",
        "        if (f_left * f_middle).real > 0:\n",
        "            # The left guess and the middle guess have the same sign.\n",
        "            # Replace the left guess with the middle guess.\n",
        "            x_left = x_middle\n",
        "            f_left = f_middle\n",
        "        else:\n",
        "            # The right guess and the middle guess have the same sign.\n",
        "            # Replace the right guess with the middle guess.\n",
        "            x_right = x_middle\n",
        "            f_right = f_middle\n",
        "        # Compute the new middle point.\n",
        "        x_middle = (x_left + x_right) / 2\n",
        "        f_middle = f(x_middle)\n",
        "    return x_middle, max_steps"
      ],
      "execution_count": 0,
      "outputs": []
    },
    {
      "cell_type": "markdown",
      "metadata": {
        "id": "1vvh6c8OQ-BZ",
        "colab_type": "text"
      },
      "source": [
        "### Secant method\n",
        "As described in class, the secant method gets a kth approximate to $f(x)$ by using the secant line between two points, $x_{k-1}$ and $x_{k-2}$.  Convergence is guaranteed if the initial guesses $x_0$ and $x_1$ are close enough to the root, and if $f$ is twice continuously differentiable near the root with nonzero first derivative at the root.  Despite these theoretical limits, a practical bonus is that only $f(x)$ is needed for implementation."
      ]
    },
    {
      "cell_type": "code",
      "metadata": {
        "id": "tcd0YZshQ-Ba",
        "colab_type": "code",
        "colab": {}
      },
      "source": [
        "def secant(f, x0, x1, max_steps=100, tol=1e-10):\n",
        "    \"\"\"Computes iterates of the secant method for solving f(x) = 0.\n",
        "    \n",
        "    :param f: The function to find a root for.\n",
        "    :param x0: A first initial guess.\n",
        "    :param x1: A second initial guess.\n",
        "    :return: The final iterate and the total number of iterations needed.\n",
        "    \"\"\"\n",
        "    x_old = x0\n",
        "    x_new = x1\n",
        "    f_old = f(x_old)\n",
        "    f_new = f(x_new)\n",
        "    for iteration in range(max_steps):\n",
        "        if abs(f(x_new)) <= tol:\n",
        "            return x_new, iteration\n",
        "        x_next = x_new - (f_new * (x_new - x_old) / (f_new - f_old))\n",
        "        x_old = x_new\n",
        "        f_old = f_new\n",
        "        x_new = x_next\n",
        "        f_new = f(x_next)\n",
        "    return x_new, max_steps"
      ],
      "execution_count": 0,
      "outputs": []
    },
    {
      "cell_type": "markdown",
      "metadata": {
        "id": "_8ZFqri_Q-Bg",
        "colab_type": "text"
      },
      "source": [
        "### Halley's method\n",
        "Halley's method (named after Edmond Halley, the comet dude) approximates $f(x)$ by a ratio of linear functions determined by the previous iterate.  The update formula is given by\n",
        "\n",
        "\\begin{equation}\n",
        "x_{k} = x_{k-1} -\n",
        "\\frac{2f(x_{k-1})f'(x_{k-1})}{2\\left(f'(x_{k-1})\\right)^2 - f(x_{k-1})f''(x_{k-1})}.\n",
        "\\end{equation}\n",
        "\n",
        "Convergence is guaranteed if the initial guess, $x_0$, is close enough to the root, and if $f$ is three times continuously differentiable near the root.  All of $f(x)$, $f'(x)$, and $f''(x)$ are required for implementation."
      ]
    },
    {
      "cell_type": "code",
      "metadata": {
        "id": "sH3PG109Q-Bh",
        "colab_type": "code",
        "colab": {}
      },
      "source": [
        "def halley(f, df, ddf, x0, max_steps=100, tol=1e-10):\n",
        "    \"\"\"Computes iterates of Halley's method for solving f(x) = 0.\n",
        "    \n",
        "    :param f: The function to find a root for.\n",
        "    :param df: The first derivative of the function.\n",
        "    :param ddf: The second derivative of the function.\n",
        "    :param x0: An initial guess.\n",
        "    :return: The final iterate and the total number of iterations needed.\n",
        "    \"\"\"\n",
        "    x = x0\n",
        "    for iteration in range(max_steps):\n",
        "        if abs(f(x)) <= tol:\n",
        "            return x, iteration\n",
        "        dividend = 2 * f(x) * df(x)\n",
        "        divisor = (2 * (df(x) ** 2)) - (f(x) * ddf(x))\n",
        "        x -= dividend / divisor\n",
        "    return x, max_steps"
      ],
      "execution_count": 0,
      "outputs": []
    },
    {
      "cell_type": "code",
      "metadata": {
        "id": "uR5fgP0U2QFh",
        "colab_type": "code",
        "colab": {}
      },
      "source": [
        ""
      ],
      "execution_count": 0,
      "outputs": []
    },
    {
      "cell_type": "markdown",
      "metadata": {
        "id": "OMeFb4AoQ-Bl",
        "colab_type": "text"
      },
      "source": [
        "## Passing functions to functions"
      ]
    },
    {
      "cell_type": "markdown",
      "metadata": {
        "id": "EglcBSWbQ-Bm",
        "colab_type": "text"
      },
      "source": [
        "All four root-finding functions take functions as arguments. This is a common pattern used in optimization libraries [such as scipy.optimize](https://docs.scipy.org/doc/scipy/reference/optimize.html). In the example below, we define Python functions that correspond to the polynomial $f(x) = x^2 - x - 2$ and its first and second derivative. We then pass these functions to the root-finding functions and compare the results."
      ]
    },
    {
      "cell_type": "code",
      "metadata": {
        "id": "GIRl2LWCQ-Bo",
        "colab_type": "code",
        "outputId": "6cc1581b-1f1c-4917-ef50-b56a210850dc",
        "colab": {
          "base_uri": "https://localhost:8080/",
          "height": 85
        }
      },
      "source": [
        "def quadratic_f(x):\n",
        "    return x**2 - x - 2\n",
        "\n",
        "def quadratic_df(x):\n",
        "    return (2 * x) - 1 # first derivative of f(x) -- manually computed\n",
        "\n",
        "def quadratic_ddf(x):\n",
        "    return 2 # second derivative of f(x) -- manually computed\n",
        "\n",
        "root_bisect, iter_bisect = bisection(quadratic_f, -5, 0)\n",
        "root_newton, iter_newton = newton(quadratic_f, quadratic_df, 0)\n",
        "root_secant, iter_secant = secant(quadratic_f, -5, 0)\n",
        "root_halley, iter_halley = halley(quadratic_f, quadratic_df, quadratic_ddf, 0)\n",
        "print(f'The bisection method took {iter_bisect} iterations to find the root x={root_bisect}.')\n",
        "print(f'The Newton method took {iter_newton} iterations to find the root x={root_newton}.')\n",
        "print(f'The secant method took {iter_secant} iterations to find the root x={root_secant}.')\n",
        "print(f'The Halley method took {iter_halley} iterations to find the root x={root_halley}.')"
      ],
      "execution_count": 9,
      "outputs": [
        {
          "output_type": "stream",
          "text": [
            "The bisection method took 35 iterations to find the root x=-0.9999999999854481.\n",
            "The Newton method took 6 iterations to find the root x=-1.0.\n",
            "The secant method took 8 iterations to find the root x=-1.0000000000000013.\n",
            "The Halley method took 4 iterations to find the root x=-1.0.\n"
          ],
          "name": "stdout"
        }
      ]
    },
    {
      "cell_type": "markdown",
      "metadata": {
        "id": "DiSE1zvWQ-Bt",
        "colab_type": "text"
      },
      "source": [
        "Sometimes, it is cumbersome to define functions in the way illustrated above. Rather than using the `def` keyword, we can use [one-line _lambda expressions_](https://docs.python.org/3/tutorial/controlflow.html#lambda-expressions) to create anonymous functions—that is, functions without an explicit name. Here's how we might rewrite the root-finding problem above as a series of lambda expressions:"
      ]
    },
    {
      "cell_type": "code",
      "metadata": {
        "id": "w11h6DT1Q-Bv",
        "colab_type": "code",
        "outputId": "01352359-c547-4c97-aa51-ad95d8398f6d",
        "colab": {
          "base_uri": "https://localhost:8080/",
          "height": 34
        }
      },
      "source": [
        "root_halley, iter_halley = halley(lambda x: x**2 - x - 2,\n",
        "                                  lambda x: (2 * x) - 1,\n",
        "                                  lambda x: 2,\n",
        "                                  0)\n",
        "print(f'The Halley method took {root_halley} iterations to find the root x={iter_halley}.')"
      ],
      "execution_count": 10,
      "outputs": [
        {
          "output_type": "stream",
          "text": [
            "The Halley method took -1.0 iterations to find the root x=4.\n"
          ],
          "name": "stdout"
        }
      ]
    },
    {
      "cell_type": "markdown",
      "metadata": {
        "id": "ZmKiaKi-Q-B0",
        "colab_type": "text"
      },
      "source": [
        "## Exercises\n",
        "\n",
        "### Microprocessor division with Newton's method (NOT DUE YET)\n",
        "One of the uses of Newton's method is in implementing division on microprocessors, where only addition and multiplication are available as primitive operations.  To compute $x=\\frac{a}{b}$, first the root of $f(x) = \\frac{1}{x} - b$ is found using Newton's method, then the fraction is computed with one last multiplication by $a$.  \n",
        "\n",
        "**(i)** Find the Newton iteration needed to solve $f(x)=0$ and explain why it is well-suited to this purpose.  *(Hint: We are trying to approximate division, so we shouldn't actually use it...)*\n",
        "\n",
        "**(ii)** Explain why Halley's method cannot be used for this purpose.\n",
        "\n",
        "**(iii)** Apply Newton's method to computing $1/b$, where $b$ is (a) the last 3 digits of your student ID number; and (b) the area code of your phone number. For these experiments, report the iterates until the approximation is consistent with the last iterate to 10 digits (you will need to modify the given code in order to do so). For instance, `newton_division(1, 3, 0.01)` should print something like:\n",
        "```\n",
        "Iteration 0: 1/b = 0.01\n",
        "Iteration 1: 1/b = 0.0197\n",
        "Iteration 2: 1/b = 0.038235729999999996\n",
        "Iteration 3: 1/b = 0.07208554685410129\n",
        "Iteration 4: 1/b = 0.1285821155124381\n",
        "Iteration 5: 1/b = 0.20756414973591425\n",
        "Iteration 6: 1/b = 0.2858796707050494\n",
        "Iteration 7: 1/b = 0.3265777830428163\n",
        "Iteration 8: 1/b = 0.3331964209541502\n",
        "Iteration 9: 1/b = 0.33333327709833466\n",
        "Iteration 10: 1/b = 0.3333333333333238\n",
        "Iteration 11: 1/b = 0.3333333333333333\n",
        "```\n"
      ]
    },
    {
      "cell_type": "code",
      "metadata": {
        "id": "0h2lJJtxQ-B1",
        "colab_type": "code",
        "colab": {}
      },
      "source": [
        "student_number = 123  # Your student number here!\n",
        "area_code = 617       # Your area code here!"
      ],
      "execution_count": 0,
      "outputs": []
    },
    {
      "cell_type": "code",
      "metadata": {
        "tags": [
          "template"
        ],
        "id": "Gz8HMSRpQ-B7",
        "colab_type": "code",
        "colab": {}
      },
      "source": [
        "def newton_division(a, b, x0, max_steps=100, tol=1e-10):\n",
        "    \"\"\"Divides two numbers using Newton's method and returns the result.\n",
        "    \n",
        "    Your solution should *not* use the division operator. Rather than\n",
        "    calling the newton() method, which uses division, use the specialized\n",
        "    Newton iteration you found in part (i).\n",
        "    \n",
        "    Print the estimate of 1/b for each iteration of Newton's method.\n",
        "    \n",
        "    :param a: The dividend.\n",
        "    :param b: The divisor.\n",
        "    :param x0: The initial guess.\n",
        "    \"\"\"\n",
        "    # TODO: Your code here!"
      ],
      "execution_count": 0,
      "outputs": []
    },
    {
      "cell_type": "code",
      "metadata": {
        "id": "_ujkwE_RQ-CI",
        "colab_type": "code",
        "outputId": "3c2d0851-77e7-4632-9da0-07b2a3b54d73",
        "colab": {
          "base_uri": "https://localhost:8080/",
          "height": 595
        }
      },
      "source": [
        "# Unit tests for newton_division().\n",
        "# Use these to make sure your implementation is behaving properly.\n",
        "div_tol = 1e-10\n",
        "assert abs(newton_division(1, 3, 0.01) - 1/3) <= div_tol\n",
        "assert abs(newton_division(-2, 17, 0.01) + 2/17) <= div_tol\n",
        "assert abs(newton_division(0, 2, 0.01)) <= div_tol"
      ],
      "execution_count": 14,
      "outputs": [
        {
          "output_type": "stream",
          "text": [
            "Iteration 0: 1/b = 0.01\n",
            "Iteration 1: 1/b = 0.0197\n",
            "Iteration 2: 1/b = 0.038235729999999996\n",
            "Iteration 3: 1/b = 0.07208554685410129\n",
            "Iteration 4: 1/b = 0.1285821155124381\n",
            "Iteration 5: 1/b = 0.20756414973591425\n",
            "Iteration 6: 1/b = 0.2858796707050494\n",
            "Iteration 7: 1/b = 0.3265777830428163\n",
            "Iteration 8: 1/b = 0.3331964209541502\n",
            "Iteration 9: 1/b = 0.33333327709833466\n",
            "Iteration 10: 1/b = 0.3333333333333238\n",
            "Iteration 11: 1/b = 0.3333333333333333\n",
            "Iteration 0: 1/b = 0.01\n",
            "Iteration 1: 1/b = 0.0183\n",
            "Iteration 2: 1/b = 0.030906870000000003\n",
            "Iteration 3: 1/b = 0.0455747515756527\n",
            "Iteration 4: 1/b = 0.0558395174712036\n",
            "Iteration 5: 1/b = 0.058672155848320716\n",
            "Iteration 6: 1/b = 0.05882313987451764\n",
            "Iteration 7: 1/b = 0.05882352940918514\n",
            "Iteration 8: 1/b = 0.058823529411764705\n",
            "Iteration 0: 1/b = 0.01\n",
            "Iteration 1: 1/b = 0.0198\n",
            "Iteration 2: 1/b = 0.038815920000000004\n",
            "Iteration 3: 1/b = 0.0746184887091072\n",
            "Iteration 4: 1/b = 0.13810113970375207\n",
            "Iteration 5: 1/b = 0.23805842983255365\n",
            "Iteration 6: 1/b = 0.36277322763642555\n",
            "Iteration 7: 1/b = 0.4623376258933515\n",
            "Iteration 8: 1/b = 0.4971630911533017\n",
            "Iteration 9: 1/b = 0.499983903896391\n",
            "Iteration 10: 1/b = 0.4999999994818309\n",
            "Iteration 11: 1/b = 0.49999999999999994\n",
            "Iteration 12: 1/b = 0.49999999999999994\n"
          ],
          "name": "stdout"
        }
      ]
    },
    {
      "cell_type": "code",
      "metadata": {
        "id": "zyZd_ItMQ-CM",
        "colab_type": "code",
        "outputId": "7d3f3283-7a15-481b-8d26-2b02383c8eea",
        "colab": {
          "base_uri": "https://localhost:8080/",
          "height": 340
        }
      },
      "source": [
        "print(f'By Newton division, 1/{student_number} is {newton_division(1, student_number, 0.001)}.')\n",
        "print(f'By Newton division, 1/{area_code} is {newton_division(1, area_code, 0.001)}.')"
      ],
      "execution_count": 15,
      "outputs": [
        {
          "output_type": "stream",
          "text": [
            "Iteration 0: 1/b = 0.001\n",
            "Iteration 1: 1/b = 0.001877\n",
            "Iteration 2: 1/b = 0.003320655133\n",
            "Iteration 3: 1/b = 0.005285019952984733\n",
            "Iteration 4: 1/b = 0.007134473289845516\n",
            "Iteration 5: 1/b = 0.008008159357498183\n",
            "Iteration 6: 1/b = 0.008128252910700825\n",
            "Iteration 7: 1/b = 0.00813008088962273\n",
            "Iteration 8: 1/b = 0.008130081300812988\n",
            "Iteration 9: 1/b = 0.008130081300813007\n",
            "By Newton division, 1/123 is 0.008130081300813007.\n",
            "Iteration 0: 1/b = 0.001\n",
            "Iteration 1: 1/b = 0.0013830000000000001\n",
            "Iteration 2: 1/b = 0.001585870887\n",
            "Iteration 3: 1/b = 0.0016199951218655191\n",
            "Iteration 4: 1/b = 0.0016207451954974343\n",
            "Iteration 5: 1/b = 0.0016207455429496824\n",
            "Iteration 6: 1/b = 0.001620745542949757\n",
            "By Newton division, 1/617 is 0.001620745542949757.\n"
          ],
          "name": "stdout"
        }
      ]
    },
    {
      "cell_type": "markdown",
      "metadata": {
        "id": "2vsOXHTBQ-CQ",
        "colab_type": "text"
      },
      "source": [
        "### Square roots with Newton's method (NOT DUE YET)\n",
        "\n",
        "Another use for Newton's method and other rootfinding approaches is for computing square roots, by solving for zeros of $f(x) = x^2-a$.  Apply all of the above methods to computing $\\sqrt{a}$ where $a$ is (a) the last 3 digits of your student number and (b) the area code of your phone number. Explain how you choose good initial guesses, and report the number of iterations needed for convergence."
      ]
    },
    {
      "cell_type": "code",
      "metadata": {
        "tags": [
          "template"
        ],
        "id": "P6A2IBRDQ-CS",
        "colab_type": "code",
        "colab": {}
      },
      "source": [
        "def newton_sqrt(a, x0):\n",
        "    \"\"\"Finds the square root of a number using Newton's method.\n",
        "    \n",
        "    Your code should pass a function and its derivative to the\n",
        "    newton() function and return the square root of `a` and the\n",
        "    number of iterates required.\n",
        "    \n",
        "    :param a: The number to find a square root of.\n",
        "    :param x0: An initial guess of the square root.\n",
        "    \"\"\"\n",
        "    # TODO: Your code here!"
      ],
      "execution_count": 0,
      "outputs": []
    },
    {
      "cell_type": "code",
      "metadata": {
        "id": "ZZWe5mgZQ-CY",
        "colab_type": "code",
        "colab": {}
      },
      "source": [
        "# Unit tests for newton_division().\n",
        "# Use these to make sure your implementation is behaving properly.\n",
        "sqrt_tol = 1e-5\n",
        "for a in (0, 0.001, 0.01, 0.1, 1, 10, 100, 1000):\n",
        "    sqrt_a, _ = newton_sqrt(a, 1)\n",
        "    assert abs(sqrt_a - np.sqrt(a)) <= sqrt_tol"
      ],
      "execution_count": 0,
      "outputs": []
    },
    {
      "cell_type": "code",
      "metadata": {
        "tags": [
          "template"
        ],
        "id": "d_CrFj0KQ-Cb",
        "colab_type": "code",
        "colab": {}
      },
      "source": [
        "# TODO: Your code here!\n",
        "# Use newton_sqrt() to compute the square root of the last 3 digits\n",
        "# of your student number and the area code of your phone number.\n",
        "# Print the square roots and the number of iterations necessary to find them."
      ],
      "execution_count": 0,
      "outputs": []
    },
    {
      "cell_type": "markdown",
      "metadata": {
        "id": "prlypxllQ-Ch",
        "colab_type": "text"
      },
      "source": [
        "### Comparison of methods (NOT DUE YET)\n",
        "In this problem, we'll look at performance of various methods for functions where the assumptions needed for convergence are violated.  Consider the 3 functions\n",
        " \n",
        "\\begin{align*}\n",
        "f_1(x) & = x^3 \\\\\n",
        "f_2(x) & = x^3 + 2x \\\\\n",
        "f_3(x) & = x^3 + 2x^{5/4}\n",
        "\\end{align*}\n",
        "\n",
        "Report on the iteration counts for each algorithm for each function to find the root at $x=0$ for consistent initial guesses (be sure to avoid cases where the algorithms get \"lucky\" and find the solution $x=0$ at their first step).  Explain how this correlates with the explanations given above."
      ]
    },
    {
      "cell_type": "code",
      "metadata": {
        "tags": [
          "template"
        ],
        "id": "c07XBAb4Q-Ci",
        "colab_type": "code",
        "colab": {}
      },
      "source": [
        "labels = ['x³', 'x³ + 2x', 'x³ + 2x⁵⁄⁴']\n",
        "\n",
        "functions = [\n",
        "    lambda x: x**3,\n",
        "    lambda x: x**3 + (2 * x),\n",
        "    lambda x: x**3 + (2 * x**1.25)\n",
        "]\n",
        "\n",
        "df_funcs = [\n",
        "    # TODO: Your code here!\n",
        "    # Write lambda expressions for the first derivatives\n",
        "    # of the three functions above.\n",
        "]\n",
        "\n",
        "ddf_funcs = [\n",
        "    # TODO: Your code here!\n",
        "    # Write lambda expressions for the second derivatives\n",
        "    # of the three functions above.\n",
        "]"
      ],
      "execution_count": 0,
      "outputs": []
    },
    {
      "cell_type": "code",
      "metadata": {
        "tags": [
          "template"
        ],
        "id": "rPY7ogv7Q-Cp",
        "colab_type": "code",
        "outputId": "756d3101-92c4-4630-9766-5e1955da7065",
        "colab": {
          "base_uri": "https://localhost:8080/",
          "height": 119
        }
      },
      "source": [
        "for label, f, df, ddf in zip(labels, functions, df_funcs, ddf_funcs):\n",
        "    print('---', label, '---')\n",
        "    # TODO: Your code here!\n",
        "    # For each function, call the four root-finding methods and report\n",
        "    # the roots and the iterates. Use the first derivative and second\n",
        "    # derivative functions as necessary.\n",
        "    print()"
      ],
      "execution_count": 23,
      "outputs": [
        {
          "output_type": "stream",
          "text": [
            "--- x³ ---\n",
            "\n",
            "--- x³ + 2x ---\n",
            "\n",
            "--- x³ + 2x⁵⁄⁴ ---\n",
            "\n"
          ],
          "name": "stdout"
        }
      ]
    }
  ]
}