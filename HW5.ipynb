{
  "nbformat": 4,
  "nbformat_minor": 0,
  "metadata": {
    "colab": {
      "name": "HW5.ipynb",
      "provenance": [],
      "collapsed_sections": [],
      "authorship_tag": "ABX9TyNS/L0n02YGaa6hq0V/tjYT",
      "include_colab_link": true
    },
    "kernelspec": {
      "name": "python3",
      "display_name": "Python 3"
    }
  },
  "cells": [
    {
      "cell_type": "markdown",
      "metadata": {
        "id": "view-in-github",
        "colab_type": "text"
      },
      "source": [
        "<a href=\"https://colab.research.google.com/github/tufts-mathmodeling/HW/blob/master/HW5.ipynb\" target=\"_parent\"><img src=\"https://colab.research.google.com/assets/colab-badge.svg\" alt=\"Open In Colab\"/></a>"
      ]
    },
    {
      "cell_type": "code",
      "metadata": {
        "id": "vk0UxFpk5xH9",
        "colab_type": "code",
        "colab": {}
      },
      "source": [
        "import numpy as np\n",
        "import cvxpy as cp"
      ],
      "execution_count": 0,
      "outputs": []
    },
    {
      "cell_type": "markdown",
      "metadata": {
        "id": "NsjDKOj-5-BI",
        "colab_type": "text"
      },
      "source": [
        "# Math Modeling Homework 5 (Spring 2020)\n",
        "\n",
        "## Problem 1: Max Flow / Min Cut (12 points)\n",
        "\n",
        "I've got some code below that carries out Max Flow for a particular network.\n",
        "\n",
        "(a) Draw the network that this flow is on.  Run it with and without forcing variable $f_{14}$ to be an integer.  Explain why this ran fine with only upper bounds on the flow variables and not lower bounds.\n",
        "\n"
      ]
    },
    {
      "cell_type": "code",
      "metadata": {
        "id": "L-zyY9Ob6Wji",
        "colab_type": "code",
        "outputId": "a97efe54-be84-4a26-fd4a-880781fb87a2",
        "colab": {
          "base_uri": "https://localhost:8080/",
          "height": 68
        }
      },
      "source": [
        "fs1 = cp.Variable()\n",
        "fs2 = cp.Variable()\n",
        "fs3 = cp.Variable()\n",
        "f14 = cp.Variable(integer=True)\n",
        "f15 = cp.Variable()\n",
        "f24 = cp.Variable()\n",
        "f25 = cp.Variable()\n",
        "f36 = cp.Variable()\n",
        "f4t = cp.Variable()\n",
        "f5t = cp.Variable()\n",
        "f6t = cp.Variable()\n",
        "objective = cp.Maximize(fs1+fs2+fs3)\n",
        "constraints = [\n",
        "    fs1 <= 1,\n",
        "    fs2 <= 1,\n",
        "    fs3 <= 1,\n",
        "    f4t <= 1,\n",
        "    f5t <= 1,\n",
        "    f6t <= 1,\n",
        "    fs1 == f14+f15,\n",
        "    fs2 == f24+f25,\n",
        "    fs3 == f36,\n",
        "    f14 + f24 == f4t,\n",
        "    f15 + f25 == f5t,\n",
        "    f36 == f6t\n",
        "]\n",
        "prob = cp.Problem(objective, constraints=constraints)\n",
        "list_solution = prob.solve()\n",
        "print('Optimal value: {:.4f}'.format(list_solution))\n",
        "print('fs1: {:.4f}, fs2: {:.4f}, fs3: {:.4f}'.format(fs1.value, fs2.value, fs3.value))\n",
        "print('f14: {:.4f}, f15: {:.4f}, f24: {:.4f}, f25: {:.4f}, f36: {:.4f}'.format(f14.value, f15.value, f24.value, f25.value, f36.value))"
      ],
      "execution_count": 0,
      "outputs": [
        {
          "output_type": "stream",
          "text": [
            "Optimal value: 3.0000\n",
            "fs1: 1.0000, fs2: 1.0000, fs3: 1.0000\n",
            "f14: 1.0000, f15: 0.0000, f24: 0.0000, f25: 1.0000, f36: 1.0000\n"
          ],
          "name": "stdout"
        }
      ]
    },
    {
      "cell_type": "markdown",
      "metadata": {
        "id": "UM8rHDTt6rhW",
        "colab_type": "text"
      },
      "source": [
        "(b) Write and run the dual program. Experiment with forcing integer variables until you get an integer solution.  Explain how to interpret this as a Min Cut.\n",
        "\n",
        "(c) Interpret the same solution as finding a maximum matching on some bipartite graph."
      ]
    },
    {
      "cell_type": "markdown",
      "metadata": {
        "id": "yIv4bDNe98fo",
        "colab_type": "text"
      },
      "source": [
        "##Problem 2: Drunkard's Walk (4 points)\n",
        "\n",
        "Here's a line of code that flips a fair coin 10 times and tells you how many times it came up heads, then repeats that \"experiment\" 20 times."
      ]
    },
    {
      "cell_type": "code",
      "metadata": {
        "id": "Zg0ue0NL-I5h",
        "colab_type": "code",
        "outputId": "a7e6d8dd-3861-4f5a-8de7-bbe644370418",
        "colab": {
          "base_uri": "https://localhost:8080/",
          "height": 34
        }
      },
      "source": [
        "np.random.binomial(10,.5,20)"
      ],
      "execution_count": 0,
      "outputs": [
        {
          "output_type": "execute_result",
          "data": {
            "text/plain": [
              "array([5, 4, 7, 3, 4, 5, 7, 5, 5, 3, 3, 6, 8, 3, 5, 7, 5, 8, 6, 5])"
            ]
          },
          "metadata": {
            "tags": []
          },
          "execution_count": 4
        }
      ]
    },
    {
      "cell_type": "markdown",
      "metadata": {
        "id": "RCnHtz-D-WW0",
        "colab_type": "text"
      },
      "source": [
        "As you should expect, the average is to get just about 5 heads.  Do that below for 20, 100, and 10,000 trials and see what you get."
      ]
    },
    {
      "cell_type": "code",
      "metadata": {
        "id": "tyus9HEi-N6T",
        "colab_type": "code",
        "outputId": "53084d47-e1ae-4da7-b54a-384f2a9411ae",
        "colab": {
          "base_uri": "https://localhost:8080/",
          "height": 34
        }
      },
      "source": [
        "seq = np.random.binomial(10,.5,20)\n",
        "np.average(seq)"
      ],
      "execution_count": 0,
      "outputs": [
        {
          "output_type": "execute_result",
          "data": {
            "text/plain": [
              "4.946"
            ]
          },
          "metadata": {
            "tags": []
          },
          "execution_count": 6
        }
      ]
    },
    {
      "cell_type": "markdown",
      "metadata": {
        "id": "3k6Ms9by-s9I",
        "colab_type": "text"
      },
      "source": [
        " Now if I get $h$ heads out of $n$ flips, then I got $n-h$ tails.  Suppose I move $+1$ for a heads toss and $-1$ for a tails toss.  Then my position after $h$ heads and $n-h$ tails is $2h-n$. The code below is set up to report what happens if you flip a fair coin 10 times and write down how many heads you get, then repeat that trial 1000 times.  Then we transform the number of heads to the position on the line.  The output shows the position after 10 random steps, and the average position.  Then it shows the *displacement* from zero (how far you are from zero) and the average of that statistic."
      ]
    },
    {
      "cell_type": "code",
      "metadata": {
        "id": "UtEG52pn-hOu",
        "colab_type": "code",
        "outputId": "4171c184-df73-4623-a3ce-3e02567e675c",
        "colab": {
          "base_uri": "https://localhost:8080/",
          "height": 1000
        }
      },
      "source": [
        "n, p = 10, .5\n",
        "h = np.random.binomial(n, p, 1000)\n",
        "h = 2*h -n\n",
        "print(h) # position of random walker after n steps\n",
        "print(np.average(h)) \n",
        "print(np.absolute(h)) # for the same experiment as above, how far was random walker from the origin?\n",
        "print(np.average(np.absolute(h)))"
      ],
      "execution_count": 0,
      "outputs": [
        {
          "output_type": "stream",
          "text": [
            "[-6  2 -2  0 -2  0  2  4  2  8 -2 -2  4  0  4  0  0 -4  6 -6 -4  2 -2 -2\n",
            "  2  2 -2 -4  2  2  2 -6 -2  4  0  2 -6  6 -2  0  8 -6  2  6 -2 -2  6 -2\n",
            "  0 -4  4  2  6  0 -2  6 -2  6 -2 -4 -4 -4  2  2 -2  2  2 -6 -6  2 -2  0\n",
            "  0  4  2  0 -4 -4 -8  0 -2  6  6 -4 -2 -6  0 -2  0  4  2  0  6  8 -2 -6\n",
            "  4 -4  2  8  2 -2  0  4  0  0 -2 -2 -8 -2 -4  4 -6 -4 -4 -4  0 -2  2  2\n",
            "  4  2 -2  2  0  2  0 -2 -4  2 -4  0  6 -4 -2  0  6 -6 -4 -2  4  0 -2  2\n",
            "  0 -8  0 -6 -4  2  4 -4 -4 -4 -8  4  2  2 -2 -2 -2  0  2  0 -2 -4  4  4\n",
            " -4 -4 -2 -2  4 -2 -2 -4 -4  0 -2  2 -2 -6 -2 -2 -2  0 -4  4  0  0  4  0\n",
            " -2  2 -2  2  0  0  2  0  4  2 -6 -4  4  2  2 -2  8 -2  2  0  0  6  2  6\n",
            "  2  0  0  2 -4  0 -4  0 -2  4  4  0 -2  0  0 -2  2 -4  0 -4  6  4  0 -2\n",
            " -6  0  2 -2  2  2  4 -2  4  4  2  0 -4 -2 -6  2  2  0  0 -4  2  2 -2 -2\n",
            "  6  2 -4  6  2 -4 -4  4  2  0 -2 -6  2  6 -2  0  6  0  0 -2  2  0  0 -2\n",
            "  0 -6 -2  6 -4 -2  0  2  2  2  0  2 -4 -4 -2  0  2  0 -2  4 -2  0 -2  2\n",
            " -2  4  4  0  2  4 -4  0  0  0  4  0  6  6 -2  2  2  2 -2  2  2 -4 -4  0\n",
            "  4 -6  0  4 -4  2  0  4  4 -2  0  0  2 -4 -2 -6 -4 -2 -4  2  0  6 -2 -2\n",
            "  0  4  6  6 -4  4  4  0 -2  2 -6  0  4  4  0  4  2 -4 -4 -4  2 -2  0 -6\n",
            "  2  2  2 -4 -2 -2 -2  0 -2 -4  0  0 -4 -2  2 -4  0  0 -4 -2  2  0  0  2\n",
            "  0  4 -2  2  0  2 -8  0 -2 -2 -2  4  2 -2 -6  4  0 -2  2  4 -2  2  2 -2\n",
            " -2  0  4  8 -4  0  2  2  2  2 -2  2  4  0 -4  4  2  0  4  6 -4 -2  0 -2\n",
            " -2  0  2  4  2 -2  4  0  4 -4 -4  2  0  0  0 -6  2  6 -2  2  6  0  2  4\n",
            "  0  2  4  2 -2 -4  2 -4  2 -2  2  6  0 -4 -2 -2 -2 -2  2  0  0  0  2  0\n",
            " -4  2 -2  6  0  6  0  0 -2 -4 -2  6  2  0  0 -4  2 -6  0 -2  2  2  2  0\n",
            " -2  0 -6  2 -4  0  2  4  2 -2 -2  2  2  2  6  4  2 -2  0  0  4  2  2  0\n",
            " -2 -2 -2  0  2  0 -2 -4  6  0  2  4  0 -2  2 -2  2  2  4  0  0 -2  2 -4\n",
            "  2  2  2  2  2 -2 -2 -2 -4 -2 -8  0  2  2  2 -4 -6 -6  2  0 -2  0 -4  8\n",
            " -2  2  2  0  0  8  0 -4  2 -2  4 -4  2 -4 -2  2 -2 -4  2 -2  2  0 -4  2\n",
            " -2  0  2  2 -2 -4 -2 -6  0 -6  0  0  4  2 -4 -2  2  2 -2  0  2 -6 -2  2\n",
            " -4 -2  2 -6  6  0  0  4 -2  2 -6  2 -4  8 -8 -6  0  0 -2  0  4  6  0  2\n",
            "  2  2 -4  8  2 -2  2  6  4 -4  4  0  2  2 -2 -6  4  2  0  0  0 -4  2  4\n",
            " -2 -2  0 -2 -4 -2  2 -6  4  0  2  0 -2  4  2 -2  8 -2 -4  0 -6  4 -2 -4\n",
            " -2  8 -2 -2  0  6  0  4  2  0  0  0  0  0  0 -2  0 -4  0  0  2  2 -4 -2\n",
            "  4 -6  0  0  6 -6 -2  4  0  0  4  4 -2 -4 -4  0  2  2  2 -2  4  0  0  8\n",
            "  0 -6  2 -4  4 -4 -2  0  2 -4 -4 -2 -2  2 -8  0  4  4  0  0 -2 -4 -2 -2\n",
            " -2  0  2 -2  4 -6  2  0  4 -4 -2 -2 -4  0  2 -2  2  0  0  4  0 -2  2  2\n",
            "  2 -2  0  0 -4  6  2  6  2 -2  4 -6 -4  4 -6 -4 -4  0 -2  0  2  6  2  4\n",
            "  0  6  6 -2  2  2  0  0 -2 -2  4  2 -2  4  2 -2  0  0  4  2  2 -6  0  0\n",
            "  4  2 -2  4  2  0  4  0 -2 -2  0 -2 -2  0 -4  4  0  0  0  0  0  0  2  0\n",
            " -6  2  4  2 -2  0  0 -2 -2  0 -2  0 -4  6 -2 -2  4  0 -2  0  6  0  6  4\n",
            "  2 -2 -6 -2  0  0 -4  4 -4  0 -2 -8  0  4  2  2 -2  2  0  0  4  2  2  0\n",
            " -2 -2  2 -2 -8 -4  4 -2  2  2  4 -6  0  2  0  2  0 -2 -2  6  0 -2  2  2\n",
            "  2 -2  2  2  6  0 -6 -6 -2  0  2 -2  0  0 -2 -2  0 -6 -2  2  2 -4  2  6\n",
            "  0 -2  0  0 -2  0  2 -2  0  2  2 -8  4  4  2  2]\n",
            "0.016\n",
            "[6 2 2 0 2 0 2 4 2 8 2 2 4 0 4 0 0 4 6 6 4 2 2 2 2 2 2 4 2 2 2 6 2 4 0 2 6\n",
            " 6 2 0 8 6 2 6 2 2 6 2 0 4 4 2 6 0 2 6 2 6 2 4 4 4 2 2 2 2 2 6 6 2 2 0 0 4\n",
            " 2 0 4 4 8 0 2 6 6 4 2 6 0 2 0 4 2 0 6 8 2 6 4 4 2 8 2 2 0 4 0 0 2 2 8 2 4\n",
            " 4 6 4 4 4 0 2 2 2 4 2 2 2 0 2 0 2 4 2 4 0 6 4 2 0 6 6 4 2 4 0 2 2 0 8 0 6\n",
            " 4 2 4 4 4 4 8 4 2 2 2 2 2 0 2 0 2 4 4 4 4 4 2 2 4 2 2 4 4 0 2 2 2 6 2 2 2\n",
            " 0 4 4 0 0 4 0 2 2 2 2 0 0 2 0 4 2 6 4 4 2 2 2 8 2 2 0 0 6 2 6 2 0 0 2 4 0\n",
            " 4 0 2 4 4 0 2 0 0 2 2 4 0 4 6 4 0 2 6 0 2 2 2 2 4 2 4 4 2 0 4 2 6 2 2 0 0\n",
            " 4 2 2 2 2 6 2 4 6 2 4 4 4 2 0 2 6 2 6 2 0 6 0 0 2 2 0 0 2 0 6 2 6 4 2 0 2\n",
            " 2 2 0 2 4 4 2 0 2 0 2 4 2 0 2 2 2 4 4 0 2 4 4 0 0 0 4 0 6 6 2 2 2 2 2 2 2\n",
            " 4 4 0 4 6 0 4 4 2 0 4 4 2 0 0 2 4 2 6 4 2 4 2 0 6 2 2 0 4 6 6 4 4 4 0 2 2\n",
            " 6 0 4 4 0 4 2 4 4 4 2 2 0 6 2 2 2 4 2 2 2 0 2 4 0 0 4 2 2 4 0 0 4 2 2 0 0\n",
            " 2 0 4 2 2 0 2 8 0 2 2 2 4 2 2 6 4 0 2 2 4 2 2 2 2 2 0 4 8 4 0 2 2 2 2 2 2\n",
            " 4 0 4 4 2 0 4 6 4 2 0 2 2 0 2 4 2 2 4 0 4 4 4 2 0 0 0 6 2 6 2 2 6 0 2 4 0\n",
            " 2 4 2 2 4 2 4 2 2 2 6 0 4 2 2 2 2 2 0 0 0 2 0 4 2 2 6 0 6 0 0 2 4 2 6 2 0\n",
            " 0 4 2 6 0 2 2 2 2 0 2 0 6 2 4 0 2 4 2 2 2 2 2 2 6 4 2 2 0 0 4 2 2 0 2 2 2\n",
            " 0 2 0 2 4 6 0 2 4 0 2 2 2 2 2 4 0 0 2 2 4 2 2 2 2 2 2 2 2 4 2 8 0 2 2 2 4\n",
            " 6 6 2 0 2 0 4 8 2 2 2 0 0 8 0 4 2 2 4 4 2 4 2 2 2 4 2 2 2 0 4 2 2 0 2 2 2\n",
            " 4 2 6 0 6 0 0 4 2 4 2 2 2 2 0 2 6 2 2 4 2 2 6 6 0 0 4 2 2 6 2 4 8 8 6 0 0\n",
            " 2 0 4 6 0 2 2 2 4 8 2 2 2 6 4 4 4 0 2 2 2 6 4 2 0 0 0 4 2 4 2 2 0 2 4 2 2\n",
            " 6 4 0 2 0 2 4 2 2 8 2 4 0 6 4 2 4 2 8 2 2 0 6 0 4 2 0 0 0 0 0 0 2 0 4 0 0\n",
            " 2 2 4 2 4 6 0 0 6 6 2 4 0 0 4 4 2 4 4 0 2 2 2 2 4 0 0 8 0 6 2 4 4 4 2 0 2\n",
            " 4 4 2 2 2 8 0 4 4 0 0 2 4 2 2 2 0 2 2 4 6 2 0 4 4 2 2 4 0 2 2 2 0 0 4 0 2\n",
            " 2 2 2 2 0 0 4 6 2 6 2 2 4 6 4 4 6 4 4 0 2 0 2 6 2 4 0 6 6 2 2 2 0 0 2 2 4\n",
            " 2 2 4 2 2 0 0 4 2 2 6 0 0 4 2 2 4 2 0 4 0 2 2 0 2 2 0 4 4 0 0 0 0 0 0 2 0\n",
            " 6 2 4 2 2 0 0 2 2 0 2 0 4 6 2 2 4 0 2 0 6 0 6 4 2 2 6 2 0 0 4 4 4 0 2 8 0\n",
            " 4 2 2 2 2 0 0 4 2 2 0 2 2 2 2 8 4 4 2 2 2 4 6 0 2 0 2 0 2 2 6 0 2 2 2 2 2\n",
            " 2 2 6 0 6 6 2 0 2 2 0 0 2 2 0 6 2 2 2 4 2 6 0 2 0 0 2 0 2 2 0 2 2 8 4 4 2\n",
            " 2]\n",
            "2.512\n"
          ],
          "name": "stdout"
        }
      ]
    },
    {
      "cell_type": "markdown",
      "metadata": {
        "id": "hyedLYGwDXKR",
        "colab_type": "text"
      },
      "source": [
        "Modify the code to take 1 million steps of the walk and to repeat that trial 10,000 times.  (Make sure you comment out the part that prints the coinflip outcomes!) What kind of values are you finding for the average position after 1 million steps?  What kind of values are you finding for the average displacement?  How does that fit with what we learned in class?\n"
      ]
    },
    {
      "cell_type": "markdown",
      "metadata": {
        "id": "P8OjayA1FXme",
        "colab_type": "text"
      },
      "source": [
        "## Problem 3: Transition matrix on a graph\n",
        "\n",
        "Here is a five-vertex graph: [link](https://media.geeksforgeeks.org/wp-content/uploads/cr.png)\n",
        "\n",
        "Write the transition matrix for simple random walk on this graph.\n",
        "\n",
        "(a) If you start at vertex $a$, what's the probability that you're back at vertex $a$ after five steps?\n",
        "\n",
        "(b) Find a steady-state vector for this system.  That is, find a probability vector $v$ that has the property that $M^T v = v$."
      ]
    },
    {
      "cell_type": "code",
      "metadata": {
        "id": "Wdewt_L7AIOh",
        "colab_type": "code",
        "colab": {}
      },
      "source": [
        ""
      ],
      "execution_count": 0,
      "outputs": []
    }
  ]
}