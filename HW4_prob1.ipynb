{
  "nbformat": 4,
  "nbformat_minor": 0,
  "metadata": {
    "kernelspec": {
      "display_name": "Python 3",
      "language": "python",
      "name": "python3"
    },
    "language_info": {
      "codemirror_mode": {
        "name": "ipython",
        "version": 3
      },
      "file_extension": ".py",
      "mimetype": "text/x-python",
      "name": "python",
      "nbconvert_exporter": "python",
      "pygments_lexer": "ipython3",
      "version": "3.8.1"
    },
    "colab": {
      "name": "HW4-prob1.ipynb",
      "provenance": [],
      "collapsed_sections": [],
      "include_colab_link": true
    }
  },
  "cells": [
    {
      "cell_type": "markdown",
      "metadata": {
        "id": "view-in-github",
        "colab_type": "text"
      },
      "source": [
        "<a href=\"https://colab.research.google.com/github/tufts-mathmodeling/HW/blob/master/HW4_prob1.ipynb\" target=\"_parent\"><img src=\"https://colab.research.google.com/assets/colab-badge.svg\" alt=\"Open In Colab\"/></a>"
      ]
    },
    {
      "cell_type": "code",
      "metadata": {
        "id": "Ug1bPZI_ind1",
        "colab_type": "code",
        "colab": {}
      },
      "source": [
        "import numpy as np\n",
        "import cvxpy as cp"
      ],
      "execution_count": 0,
      "outputs": []
    },
    {
      "cell_type": "markdown",
      "metadata": {
        "id": "-MaE4M8qind9",
        "colab_type": "text"
      },
      "source": [
        "# Math Modeling Homework 4 (Spring 2020)\n",
        "\n",
        "## Problem 1: duality (12 points)\n",
        "\n",
        "Consider the primal linear program\n",
        "\n",
        "\\begin{align*}\n",
        "\\text{maximize } ~~~11x_1 + 5x_2 & \\\\\n",
        "\\text{subject to } \\phantom{~~11x_1 + 5x_2} &\\\\\n",
        "x_1 + x_2 & \\leq 7 \\\\\n",
        "10x_1 + 4x_2 & \\leq 40 \\\\\n",
        "x_1, x_2 & \\geq 0\n",
        "\\end{align*}\n",
        "\n",
        "(a) Write the dual linear program. (Consult course lecture notes)\n",
        "\n",
        "(b) Find the solutions to both the primal and the dual linear programs by\n",
        "  plotting the feasible sets.  Confirm that both the strong duality\n",
        "  theorem and complementary slackness are satisfied.  What are the\n",
        "  dual prices of each of the constraints?\n",
        "\n",
        "(c) Does the dual price provide an accurate prediction of the\n",
        "  increase in the primal objective function when the right-hand side\n",
        "  of the first constraint is increased by 1?  By 2?  By 4?\n"
      ]
    }
  ]
}