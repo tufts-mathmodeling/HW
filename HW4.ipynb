{
  "nbformat": 4,
  "nbformat_minor": 0,
  "metadata": {
    "kernelspec": {
      "display_name": "Python 3",
      "language": "python",
      "name": "python3"
    },
    "language_info": {
      "codemirror_mode": {
        "name": "ipython",
        "version": 3
      },
      "file_extension": ".py",
      "mimetype": "text/x-python",
      "name": "python",
      "nbconvert_exporter": "python",
      "pygments_lexer": "ipython3",
      "version": "3.8.1"
    },
    "colab": {
      "name": "HW4.ipynb",
      "provenance": [],
      "collapsed_sections": [],
      "include_colab_link": true
    }
  },
  "cells": [
    {
      "cell_type": "markdown",
      "metadata": {
        "id": "view-in-github",
        "colab_type": "text"
      },
      "source": [
        "<a href=\"https://colab.research.google.com/github/tufts-mathmodeling/HW/blob/master/HW4.ipynb\" target=\"_parent\"><img src=\"https://colab.research.google.com/assets/colab-badge.svg\" alt=\"Open In Colab\"/></a>"
      ]
    },
    {
      "cell_type": "code",
      "metadata": {
        "id": "lOntvpRrIW8S",
        "colab_type": "code",
        "colab": {}
      },
      "source": [
        "import numpy as np\n",
        "import cvxpy as cp"
      ],
      "execution_count": 0,
      "outputs": []
    },
    {
      "cell_type": "markdown",
      "metadata": {
        "id": "DdgQf9nIIW8Z",
        "colab_type": "text"
      },
      "source": [
        "# Math Modeling Homework 4 (Spring 2020)\n",
        "\n",
        "## Problem 1: Duality (16 points)\n",
        "\n",
        "Consider the primal linear program\n",
        "\n",
        "\\begin{align*}\n",
        "\\text{maximize } ~~~11x_1 + 5x_2 & \\\\\n",
        "\\text{subject to } \\phantom{~~11x_1 + 5x_2} &\\\\\n",
        "x_1 + x_2 & \\leq 7 \\\\\n",
        "10x_1 + 4x_2 & \\leq 40 \\\\\n",
        "x_1, x_2 & \\geq 0\n",
        "\\end{align*}\n",
        "\n",
        "(a) Write the dual linear program. (See lecture notes.)\n",
        "\n",
        "(b) Find the solutions to both the primal and the dual linear programs and\n",
        "  plot the feasible sets.  \n",
        "  \n",
        "(c) Confirm that both the duality\n",
        "  theorem and complementary slackness are satisfied.  What are the\n",
        "  dual prices (\"shadow prices\") of each of the constraints?\n",
        "\n",
        "(d) Does the dual price provide an accurate prediction of the\n",
        "  increase in the primal objective function when the right-hand side\n",
        "  of the first constraint is increased by 1?  By 2?  By 4?\n"
      ]
    },
    {
      "cell_type": "markdown",
      "metadata": {
        "id": "KFPhKEoUIW8b",
        "colab_type": "text"
      },
      "source": [
        "## Problem 2: Branch and bound (16 points)\n",
        "\n",
        "Consider the linear program\n",
        "\\begin{align*}\n",
        "\\text{maximize }\\phantom{~~~}50x_1 + 6x_2 + 35x_3 + 60x_4 &\\\\\n",
        "\\text{subject to }\\phantom{~~~50x_1 + 6x_2 + 35x_3 + 60x_4} &\\\\\n",
        "~~24x_1 + 76x_2 + 43x_3 + 754x_4 &\\leq 800 \\\\\n",
        "~~755x_1 + 27x_2 + 33x_3 + 67x_4 &\\leq 850\n",
        "\\end{align*}\n",
        "\n",
        "(a) Restrict $x_1$, $x_2$, $x_3$, and $x_4$ to be integer variables\n",
        "that can take only the values $0$ and $1$.  Perform a branch and bound\n",
        "process *by hand* (in the greedy style shown in class) to find the optimal solution, explaining your choices for\n",
        "which variables to branch on and where to prune the tree.  Draw the\n",
        "branch and bound tree for your solution.  \n",
        "\n",
        "(b) Check your hand-solved answer to (a) by using the complete enumeration code below and report how you confirmed your answer. While you're at it, use the code below to solve the integer program where the decision variables can be in $\\{0,1,2\\}$ or $\\{0,1,2,3\\}$.  \n",
        "\n",
        "(c) Finally, there is an implementation of branch-and-bound at the bottom of the template, but it's not following quite the same protocol as we did in class.  Read through it and experiment with it and explain how its process of examining branches is different from the one we learned in class.  \n",
        " \n"
      ]
    },
    {
      "cell_type": "code",
      "metadata": {
        "id": "64Vgw0IYIW8c",
        "colab_type": "code",
        "colab": {}
      },
      "source": [
        "x = cp.Variable(4)\n",
        "constraints = [\n",
        "    [24, 76, 43, 754] @ x <= 800,\n",
        "    [755, 27, 33, 67] @ x <= 850,\n",
        "]\n",
        "objective = cp.Maximize([50, 6, 35, 60] @ x)"
      ],
      "execution_count": 0,
      "outputs": []
    },
    {
      "cell_type": "markdown",
      "metadata": {
        "id": "yjkeuC6nIW8g",
        "colab_type": "text"
      },
      "source": [
        "First, let's solve the LP without any integer constraints."
      ]
    },
    {
      "cell_type": "code",
      "metadata": {
        "id": "oHWGjyHCIW8h",
        "colab_type": "code",
        "colab": {}
      },
      "source": [
        "no_integer_constraints = cp.Problem(objective,\n",
        "                                    constraints=constraints + [x >= 0, x <= 1])\n",
        "print('with no integer constraints, value is {:.3f}'.format(no_integer_constraints.solve()))\n",
        "print('x is', np.around(x.value, 3))"
      ],
      "execution_count": 0,
      "outputs": []
    },
    {
      "cell_type": "markdown",
      "metadata": {
        "id": "hHyODCL6eknv",
        "colab_type": "text"
      },
      "source": [
        "Now let's do a \"brute-force\" complete enumeration."
      ]
    },
    {
      "cell_type": "code",
      "metadata": {
        "id": "UhyDpgxkIW8o",
        "colab_type": "code",
        "colab": {}
      },
      "source": [
        "max_x = 1  \n",
        "base = max_x + 1  #  number of integer values that can be taken by each decision variable\n",
        "n_vals = base**x.size  # size of naive tree\n",
        "best_sol = -np.inf  # initialize best_sol at negative infinity\n",
        "best_sol_x = None\n",
        "\n",
        "for idx in range(n_vals):\n",
        "    x_eq = [int(c) for c in np.base_repr(idx, base=base).zfill(x.size)] # each time through, x_eq is a new vector like [0, 0, 0, 0]\n",
        "    prob = cp.Problem(objective, constraints=constraints + [x == x_eq])  # outputs value of obj fcn at this x_eq, as long as it's feasible\n",
        "    sol = prob.solve(solver='ECOS')  # use this solver!\n",
        "    if prob.status == 'infeasible':\n",
        "        print(x_eq, 'is infeasible!')\n",
        "    else:\n",
        "        print(x_eq, 'value is {:.2f}'.format(sol))\n",
        "        if sol > best_sol:\n",
        "            best_sol = sol\n",
        "            best_sol_x = x_eq\n",
        "print()\n",
        "print('best x is', best_sol_x)\n",
        "print('value is {:.2f}'.format(best_sol))"
      ],
      "execution_count": 0,
      "outputs": []
    },
    {
      "cell_type": "markdown",
      "metadata": {
        "id": "hFsQuwqAIW8s",
        "colab_type": "text"
      },
      "source": [
        "## Some branch and bound code"
      ]
    },
    {
      "cell_type": "markdown",
      "metadata": {
        "id": "ZwNJbfp-IW8w",
        "colab_type": "text"
      },
      "source": [
        "### A stack-based solution\n",
        "\n",
        "In the model algorithm below, we use a stack (represented by Python's `collection.deque`) to keep track of all unexplored branches. "
      ]
    },
    {
      "cell_type": "code",
      "metadata": {
        "id": "IrtDIvbtIW8y",
        "colab_type": "code",
        "colab": {}
      },
      "source": [
        "from collections import deque\n",
        "\n",
        "def is_integer(v):\n",
        "    \"\"\"Determines if a vector is approximately integer-valued.\"\"\"\n",
        "    return np.all(np.abs(np.round(v) - v) <= 1e-8)\n",
        "\n",
        "def branches(parent, max_x):\n",
        "    \"\"\"Generates the immediate children of a branch.\n",
        "    \n",
        "    Branches are represented as tuples of variable length.\n",
        "    For instance, if `parent` is (1, 0) and `max_x` is 2,\n",
        "    this function generates [(1, 0, 0), (1, 0, 1), (1, 0, 2)].\n",
        "    \"\"\"\n",
        "    return [(*parent, br) for br in range(max_x + 1)]\n",
        "\n",
        "def prune(upper_bounds, branch_stack, cutoff):\n",
        "    \"\"\"Prunes all branches from the stack with upper bounds below `cutoff`.\"\"\"\n",
        "    for branch, bound in upper_bounds.items():\n",
        "        if branch in branch_stack and bound <= cutoff:\n",
        "            branch_stack.remove(branch)\n",
        "            \n",
        "def branch_and_bound(objective, constraints, x, max_x):\n",
        "    \"\"\"Finds integer solutions to an LP with a branch-and-bound algorithm.\"\"\"\n",
        "    x_bounds = [x >= 0, x <= max_x]\n",
        "    branch_stack = deque([()])\n",
        "    best_int = -np.inf\n",
        "    best_int_x = None\n",
        "    best_branch = None\n",
        "    upper_bounds = {}\n",
        "    branch_history = {}\n",
        "\n",
        "    while branch_stack:\n",
        "        branch = branch_stack.popleft()\n",
        "        int_constraints = [x[idx] == val for idx, val in enumerate(branch)]\n",
        "        prob = cp.Problem(objective,\n",
        "                          constraints=constraints + int_constraints + x_bounds)\n",
        "        sol = prob.solve(solver='ECOS')\n",
        "        if prob.status == 'optimal':\n",
        "            if is_integer(x.value):\n",
        "                if sol > best_int:\n",
        "                    # We've found the new best integer solution!\n",
        "                    # Remove any branches guaranteed to do worse.\n",
        "                    if best_branch is not None:\n",
        "                        branch_history[best_branch] = ('pruned', best_int)\n",
        "                    best_int = sol\n",
        "                    best_int_x = x.value\n",
        "                    best_branch = branch\n",
        "                    prune(upper_bounds, branch_stack, sol)\n",
        "                    branch_history[branch] = ('best', sol)\n",
        "                else:\n",
        "                    # We've found an integer solution, but it's not as good\n",
        "                    # as the best one we've seen. Prune!\n",
        "                    branch_history[branch] = ('pruned', sol)\n",
        "            else:\n",
        "                if sol > best_int:\n",
        "                    # We've found a non-integer branch worth exploring; more\n",
        "                    # branching is necessary to get to an integer solution.\n",
        "                    children = branches(branch, max_x)\n",
        "                    assert len(children[0]) <= x.size\n",
        "                    for child in children:\n",
        "                        upper_bounds[child] = sol\n",
        "                    branch_stack += children\n",
        "                    branch_history[branch] = ('non-integer', sol)\n",
        "                else:\n",
        "                    # We've found a non-integer solution that's worse than the\n",
        "                    # best integer solution we've seen. Prune!\n",
        "                    branch_history[branch] = ('pruned', sol)\n",
        "        else:\n",
        "            branch_history[branch] = ('infeasible', None)\n",
        "    print('best branch is', best_branch)\n",
        "    print('best integer x is', np.round(best_int_x, 4))\n",
        "    print('value is {:.2f}'.format(best_int))\n",
        "    print('evaluated {:d} LPs'.format(len(branch_history)))\n",
        "    return branch_history"
      ],
      "execution_count": 0,
      "outputs": []
    },
    {
      "cell_type": "code",
      "metadata": {
        "id": "OObXihuGIW81",
        "colab_type": "code",
        "colab": {}
      },
      "source": [
        "branch_and_bound(objective, constraints, x, 1)"
      ],
      "execution_count": 0,
      "outputs": []
    },
    {
      "cell_type": "code",
      "metadata": {
        "id": "yunKayItdaxd",
        "colab_type": "code",
        "colab": {}
      },
      "source": [
        ""
      ],
      "execution_count": 0,
      "outputs": []
    }
  ]
}